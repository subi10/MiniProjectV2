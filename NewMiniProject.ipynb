{
 "cells": [
  {
   "cell_type": "markdown",
   "metadata": {},
   "source": [
    "# Fresh Grad Job Ads in Penang\n",
    "\n",
    "\n",
    "\n",
    "Author: Subi\n",
    "\n",
    "Date: 4/26\n",
    "\n",
    "\n",
    "Purpose: To Find the Latest Situation of Job Market for Fresh Grad in Penang\n",
    "\n",
    "\n",
    "Methodology: Selenium, BeautifulSoup, Pandas,Numpy, Matplotlib, Plotly\n",
    "\n",
    "\n",
    "Findings: Most job category are from Sales-Financial Services while most industry are from Banking/Finance, Most company are willing to offer 2.5k as a minimum starting salary and 5k as max starting salary\n",
    "\n",
    "\n",
    "Recommendation/Conclusion: can get lots of data if we include other state or expand the sample, can check relationship between each variable such as the relationship between industry and job category. Can include more variable if can get company size to cross check with the salary they willing to offer. "
   ]
  },
  {
   "cell_type": "code",
   "execution_count": 4,
   "metadata": {},
   "outputs": [
    {
     "name": "stdout",
     "output_type": "stream",
     "text": [
      "Trying to download new driver from http://chromedriver.storage.googleapis.com/81.0.4044.69/chromedriver_win32.zip\n",
      "Unpack archive C:\\Users\\mohammadsubhi.jamil\\.wdm\\drivers\\chromedriver\\81.0.4044.69\\win32\\chromedriver.zip\n"
     ]
    }
   ],
   "source": [
    "from selenium import webdriver\n",
    "from selenium.webdriver.common.keys import Keys\n",
    "from bs4 import BeautifulSoup\n",
    "import time \n",
    "import pandas as pd\n",
    "import numpy as np\n",
    "import matplotlib\n",
    "import plotly.express as px\n",
    "from webdriver_manager.chrome import ChromeDriverManager\n",
    "\n",
    "\n",
    "\n",
    "page_url = []\n",
    "max_page = 7\n",
    "for i in range(1,max_page + 1):\n",
    "    page_num = str(i)\n",
    "    url = 'https://www.jobstreet.com.my/en/job-search/campus/job-vacancy.php?area=1&option=1&location=50700&job-type=1%7C2%7C4%7C8%7C32&job-source=1%2C64&classified=1&job-posted=0&src=45&pg=' + page_num + '&sort=1&order=0&srcr=12&vtype=list'\n",
    "    page_url.append(url)\n",
    "\n",
    "browser = webdriver.Chrome(ChromeDriverManager().install())\n",
    "browser.get('https://myjobstreet.jobstreet.com.my/home/login.php?site=my&language_code=3&go=JOB-ADS&nrfr=1')\n",
    "   \n",
    "user = browser.find_element_by_id('login_id')\n",
    "user.send_keys('#########@yahoo.com') #enter ur email\n",
    "\n",
    "#same for pw\n",
    "pw = browser.find_element_by_id('password')\n",
    "pw.send_keys('########') #enter ur pasword\n",
    "\n",
    "#send user name &keys\n",
    "pw.send_keys(Keys.RETURN)\n"
   ]
  },
  {
   "cell_type": "code",
   "execution_count": 5,
   "metadata": {},
   "outputs": [],
   "source": [
    "#define get fn\n",
    "\n",
    "def getAndParseURL(url):\n",
    "    browser.get(url)\n",
    "    code = browser.page_source\n",
    "    soup = BeautifulSoup(code,'html.parser')\n",
    "    return(soup)"
   ]
  },
  {
   "cell_type": "code",
   "execution_count": 6,
   "metadata": {},
   "outputs": [],
   "source": [
    "#Define scrape function for each intended column\n",
    "\n",
    "def job(url):\n",
    "    soup = getAndParseURL(url)\n",
    "    soup_list = soup.findAll(class_ = 'rRow')\n",
    "    return(soup_list.find(class_='rRowTitle').get_text() for soup_list in soup_list)\n",
    "\n",
    "\n",
    "def company(url):\n",
    "    soup = getAndParseURL(url)\n",
    "    soup_list = soup.findAll(class_ = 'rRow')\n",
    "    return(soup_list.find('h3').get_text() for soup_list in soup_list)\n",
    "\n",
    "def category(url):\n",
    "    soup = getAndParseURL(url)\n",
    "    soup_list = soup.findAll(class_ = 'rRow')\n",
    "    return(soup_list.find(class_='smalldesc').get_text() for soup_list in soup_list)\n",
    "\n",
    "\n",
    "def industry(url):\n",
    "    soup = getAndParseURL(url)\n",
    "    soup_list = soup.findAll(class_ = 'rRow')\n",
    "    Company1 = [soup_list.find(class_='colComp') for soup_list in soup_list]\n",
    "    return(Company1[items].find(\"div\", attrs={\"class\":\"smalldesc\"}).text.replace('Industry:','') for items in range(len(Company1)))\n",
    "\n",
    "\n",
    "def salary(url):\n",
    "    soup = getAndParseURL(url)\n",
    "    soup_list = soup.findAll(class_ = 'rRow')\n",
    "    return(soup_list.find(class_='colSal').get_text().replace('\\n','').replace('MYR','').replace(',','') for soup_list in soup_list)"
   ]
  },
  {
   "cell_type": "code",
   "execution_count": 7,
   "metadata": {},
   "outputs": [],
   "source": [
    "#scrape each column and put it into list\n",
    "\n",
    "Job_title = []\n",
    "Company = []\n",
    "Category = []\n",
    "Industry = []\n",
    "Salary = []\n",
    "for url in page_url:\n",
    "    time.sleep(10)\n",
    "    Job_title.extend(job(url))\n",
    "    Company.extend(company(url))\n",
    "    Category.extend(category(url))\n",
    "    Industry.extend(industry(url))\n",
    "    Salary.extend(salary(url))\n",
    "    \n",
    "browser.close() "
   ]
  },
  {
   "cell_type": "code",
   "execution_count": 8,
   "metadata": {},
   "outputs": [],
   "source": [
    "#Put everything into Pandas df\n",
    "\n",
    "Jobstreet = pd.DataFrame({\n",
    "    'Job_Title':Job_title,\n",
    "    'Company':Company,\n",
    "    'Job_Category':Category,\n",
    "    'Industry': Industry,\n",
    "    'Salary':Salary,  \n",
    "    \n",
    "})"
   ]
  },
  {
   "cell_type": "code",
   "execution_count": 9,
   "metadata": {},
   "outputs": [],
   "source": [
    "df = Jobstreet"
   ]
  },
  {
   "cell_type": "code",
   "execution_count": 10,
   "metadata": {},
   "outputs": [],
   "source": [
    "#clean and prep the data\n",
    "#split salary into two section\n",
    "\n",
    "df['Min_Salary'], df['Max_Salary'] = df['Salary'].str.split('-', 1).str #since we have range, split column salary by '-' to min max\n",
    "df = df.drop(['Salary'], 1) #drop Salary"
   ]
  },
  {
   "cell_type": "code",
   "execution_count": 11,
   "metadata": {},
   "outputs": [],
   "source": [
    "df = df.replace(r'^\\s*$', np.nan, regex=True) # replace blank space with nan\n",
    "df = df.replace(r'Below Expected Salary', np.nan, regex=True) \n",
    "df = df.replace(r'Around Expected Salary', np.nan, regex=True)\n",
    "df = df.replace(r'Above Expected Salary', np.nan, regex=True)# replace 'Below Expected Salary ' with nan"
   ]
  },
  {
   "cell_type": "code",
   "execution_count": 12,
   "metadata": {},
   "outputs": [
    {
     "data": {
      "text/html": [
       "<div>\n",
       "<style scoped>\n",
       "    .dataframe tbody tr th:only-of-type {\n",
       "        vertical-align: middle;\n",
       "    }\n",
       "\n",
       "    .dataframe tbody tr th {\n",
       "        vertical-align: top;\n",
       "    }\n",
       "\n",
       "    .dataframe thead th {\n",
       "        text-align: right;\n",
       "    }\n",
       "</style>\n",
       "<table border=\"1\" class=\"dataframe\">\n",
       "  <thead>\n",
       "    <tr style=\"text-align: right;\">\n",
       "      <th></th>\n",
       "      <th>Job_Title</th>\n",
       "      <th>Company</th>\n",
       "      <th>Job_Category</th>\n",
       "      <th>Industry</th>\n",
       "      <th>Min_Salary</th>\n",
       "      <th>Max_Salary</th>\n",
       "    </tr>\n",
       "  </thead>\n",
       "  <tbody>\n",
       "    <tr>\n",
       "      <th>0</th>\n",
       "      <td>IT Sales Executive</td>\n",
       "      <td>SiteGiant Sdn. Bhd.</td>\n",
       "      <td>Sales - Eng/Tech/IT</td>\n",
       "      <td>IT / Software</td>\n",
       "      <td>2500</td>\n",
       "      <td>4000</td>\n",
       "    </tr>\n",
       "    <tr>\n",
       "      <th>1</th>\n",
       "      <td>Electronic Technician</td>\n",
       "      <td>Agensi Pekerjaan NCS Solutions Sdn. Bhd.</td>\n",
       "      <td>Electronics Engineering &gt; Electronics Technici...</td>\n",
       "      <td>HR Mgmt / Consulting</td>\n",
       "      <td>1800</td>\n",
       "      <td>2400</td>\n",
       "    </tr>\n",
       "    <tr>\n",
       "      <th>2</th>\n",
       "      <td>Product Specialist</td>\n",
       "      <td>Sun Pharmaceutical Sdn Bhd</td>\n",
       "      <td>Sales - Corporate</td>\n",
       "      <td>BioTech / Pharmaceutical</td>\n",
       "      <td>2200</td>\n",
       "      <td>3200</td>\n",
       "    </tr>\n",
       "    <tr>\n",
       "      <th>3</th>\n",
       "      <td>Business Development Coordinator</td>\n",
       "      <td>UBCT INDUSTRIAL SOLUTION SDN.BHD.</td>\n",
       "      <td>Marketing/Business Dev</td>\n",
       "      <td>Manufacturing / Production</td>\n",
       "      <td>1800</td>\n",
       "      <td>2500</td>\n",
       "    </tr>\n",
       "    <tr>\n",
       "      <th>4</th>\n",
       "      <td>Software Engineering Graduate Trainee</td>\n",
       "      <td>Intel Technology Sdn. Bhd.</td>\n",
       "      <td>IT - Software &gt; Software Engineer/Programmer</td>\n",
       "      <td>Semiconductor</td>\n",
       "      <td>NaN</td>\n",
       "      <td>NaN</td>\n",
       "    </tr>\n",
       "    <tr>\n",
       "      <th>5</th>\n",
       "      <td>SALES EXECUTIVE / REPRESENTATIVE (Penang / Kua...</td>\n",
       "      <td>Panasonic Malaysia Sdn Bhd</td>\n",
       "      <td>Retail Sales</td>\n",
       "      <td>Electrical &amp; Electronics</td>\n",
       "      <td>NaN</td>\n",
       "      <td>NaN</td>\n",
       "    </tr>\n",
       "    <tr>\n",
       "      <th>6</th>\n",
       "      <td>MYS CTSM PG - AML FIU Analyst - (20181561)</td>\n",
       "      <td>04235 Citigroup Transaction Services (M)</td>\n",
       "      <td>Banking/Financial</td>\n",
       "      <td>Banking / Finance</td>\n",
       "      <td>NaN</td>\n",
       "      <td>NaN</td>\n",
       "    </tr>\n",
       "    <tr>\n",
       "      <th>7</th>\n",
       "      <td>Telesales Customer Service - Call Centre</td>\n",
       "      <td>LEACOV SINGAPORE PTE. LTD.</td>\n",
       "      <td>Telesales/Telemarketing</td>\n",
       "      <td>Education</td>\n",
       "      <td>NaN</td>\n",
       "      <td>NaN</td>\n",
       "    </tr>\n",
       "    <tr>\n",
       "      <th>8</th>\n",
       "      <td>RMA Coordinator</td>\n",
       "      <td>Venture Electronics Services (Malaysia) Sdn Bhd</td>\n",
       "      <td>Sales - Corporate</td>\n",
       "      <td>Manufacturing / Production</td>\n",
       "      <td>NaN</td>\n",
       "      <td>NaN</td>\n",
       "    </tr>\n",
       "    <tr>\n",
       "      <th>9</th>\n",
       "      <td>Product Sales Engineer</td>\n",
       "      <td>Kumpulan Abex Sdn. Bhd.</td>\n",
       "      <td>Electronics Engineering &gt; Product Management</td>\n",
       "      <td>Telecommunication</td>\n",
       "      <td>NaN</td>\n",
       "      <td>NaN</td>\n",
       "    </tr>\n",
       "    <tr>\n",
       "      <th>10</th>\n",
       "      <td>Sales Management Program (Penang) - Entry Level</td>\n",
       "      <td>OCBC Bank (Malaysia) Berhad</td>\n",
       "      <td>Sales - Financial Services</td>\n",
       "      <td>Banking / Finance</td>\n",
       "      <td>NaN</td>\n",
       "      <td>NaN</td>\n",
       "    </tr>\n",
       "    <tr>\n",
       "      <th>11</th>\n",
       "      <td>Personal Financial Banker (Fresh Grads / Exper...</td>\n",
       "      <td>ACHIEVE Career Consultant (M) Sdn Bhd (JTKSM 5...</td>\n",
       "      <td>Banking/Financial &gt; Financial Planning/Wealth ...</td>\n",
       "      <td>HR Mgmt / Consulting</td>\n",
       "      <td>NaN</td>\n",
       "      <td>NaN</td>\n",
       "    </tr>\n",
       "    <tr>\n",
       "      <th>12</th>\n",
       "      <td>Mobile Game Developer ( Multiplayer / HTML5 / ...</td>\n",
       "      <td>Impact360 Solutions Sdn Bhd</td>\n",
       "      <td>IT - Software &gt; Software Engineer/Programmer</td>\n",
       "      <td>Entertainment / Media</td>\n",
       "      <td>2000</td>\n",
       "      <td>3000</td>\n",
       "    </tr>\n",
       "    <tr>\n",
       "      <th>13</th>\n",
       "      <td>IT Technical Support Specialist</td>\n",
       "      <td>Company Confidential</td>\n",
       "      <td>Tech &amp; Helpdesk Support</td>\n",
       "      <td>HR Mgmt / Consulting</td>\n",
       "      <td>2500</td>\n",
       "      <td>5000</td>\n",
       "    </tr>\n",
       "    <tr>\n",
       "      <th>14</th>\n",
       "      <td>营销主管 (实习 或 全职） Marketing Executive</td>\n",
       "      <td>Straits Advisor Sdn Bhd</td>\n",
       "      <td>Marketing/Business Dev</td>\n",
       "      <td>Banking / Finance</td>\n",
       "      <td>1500</td>\n",
       "      <td>3000</td>\n",
       "    </tr>\n",
       "    <tr>\n",
       "      <th>15</th>\n",
       "      <td>Content Review Analyst - Thai ผู้วิเคราะห์คอนเ...</td>\n",
       "      <td>Teleperformance Malaysia Sdn Bhd</td>\n",
       "      <td>Customer Service</td>\n",
       "      <td>Call Center / BPO</td>\n",
       "      <td>3500</td>\n",
       "      <td>4300</td>\n",
       "    </tr>\n",
       "    <tr>\n",
       "      <th>16</th>\n",
       "      <td>Telephone sales / 电话销售员 / Nhân viên bán hàng q...</td>\n",
       "      <td>MG SOLAR Pty Ltd</td>\n",
       "      <td>Telesales/Telemarketing</td>\n",
       "      <td>Call Center / BPO</td>\n",
       "      <td>1500</td>\n",
       "      <td>2300</td>\n",
       "    </tr>\n",
       "    <tr>\n",
       "      <th>17</th>\n",
       "      <td>PROGRAM MANAGEMENT EXECUTIVE</td>\n",
       "      <td>Amphenol TCS (Malaysia) Sdn Bhd</td>\n",
       "      <td>Marketing/Business Dev</td>\n",
       "      <td>Manufacturing / Production</td>\n",
       "      <td>NaN</td>\n",
       "      <td>NaN</td>\n",
       "    </tr>\n",
       "    <tr>\n",
       "      <th>18</th>\n",
       "      <td>Personal Banker(Banca)-Top Bank - High Basic H...</td>\n",
       "      <td>Agensi Pekerjaan BGC Group (Malaysia) Sdn Bhd</td>\n",
       "      <td>Sales - Financial Services</td>\n",
       "      <td>Banking / Finance</td>\n",
       "      <td>2500</td>\n",
       "      <td>5000</td>\n",
       "    </tr>\n",
       "    <tr>\n",
       "      <th>19</th>\n",
       "      <td>Registered Nurse</td>\n",
       "      <td>Cherish Postnatal Retreat &amp; Breastfeeding Center</td>\n",
       "      <td>Nurse/Medical Support &gt; Nurse</td>\n",
       "      <td>Hotel / Hospitality</td>\n",
       "      <td>1800</td>\n",
       "      <td>2200</td>\n",
       "    </tr>\n",
       "    <tr>\n",
       "      <th>20</th>\n",
       "      <td>Legal Assistant</td>\n",
       "      <td>Ibrahim &amp; Kim</td>\n",
       "      <td>Law/Legal Services &gt; Lawyer</td>\n",
       "      <td>Accounting / Tax Services</td>\n",
       "      <td>NaN</td>\n",
       "      <td>NaN</td>\n",
       "    </tr>\n",
       "    <tr>\n",
       "      <th>21</th>\n",
       "      <td>Personal Banker (Wealth) -Top Bank-High Basic ...</td>\n",
       "      <td>Agensi Pekerjaan BGC Group (Malaysia) Sdn Bhd</td>\n",
       "      <td>Sales - Financial Services</td>\n",
       "      <td>Banking / Finance</td>\n",
       "      <td>4000</td>\n",
       "      <td>8000</td>\n",
       "    </tr>\n",
       "    <tr>\n",
       "      <th>22</th>\n",
       "      <td>Lab Equipment Coordinator</td>\n",
       "      <td>Agensi Pekerjaan NCS Solutions Sdn. Bhd.</td>\n",
       "      <td>Clerical/Administrative</td>\n",
       "      <td>HR Mgmt / Consulting</td>\n",
       "      <td>1600</td>\n",
       "      <td>2000</td>\n",
       "    </tr>\n",
       "    <tr>\n",
       "      <th>23</th>\n",
       "      <td>Failure Analysis Engineer / Technician (Penang)</td>\n",
       "      <td>Agensi Pekerjaan NCS Solutions Sdn. Bhd.</td>\n",
       "      <td>Electronics Engineering &gt; Electronics Engineer</td>\n",
       "      <td>HR Mgmt / Consulting</td>\n",
       "      <td>1800</td>\n",
       "      <td>3000</td>\n",
       "    </tr>\n",
       "    <tr>\n",
       "      <th>24</th>\n",
       "      <td>Video / Voice Interpreter Cantonese - English ...</td>\n",
       "      <td>Teleperformance Malaysia Sdn Bhd</td>\n",
       "      <td>Customer Service</td>\n",
       "      <td>Call Center / BPO</td>\n",
       "      <td>3000</td>\n",
       "      <td>6000</td>\n",
       "    </tr>\n",
       "    <tr>\n",
       "      <th>25</th>\n",
       "      <td>ANIMATION &amp; UI DESIGNER</td>\n",
       "      <td>Mula Car International Sdn Bhd</td>\n",
       "      <td>Arts/Creative Design &gt; Animator</td>\n",
       "      <td>Transportation / Logistics</td>\n",
       "      <td>2800</td>\n",
       "      <td>3500</td>\n",
       "    </tr>\n",
       "    <tr>\n",
       "      <th>26</th>\n",
       "      <td>HR Administrator</td>\n",
       "      <td>AGCO GSI (Malaysia) Sdn Bhd</td>\n",
       "      <td>Human Resources</td>\n",
       "      <td>Manufacturing / Production</td>\n",
       "      <td>NaN</td>\n",
       "      <td>NaN</td>\n",
       "    </tr>\n",
       "    <tr>\n",
       "      <th>27</th>\n",
       "      <td>Executive, Business Support</td>\n",
       "      <td>AIA Bhd.</td>\n",
       "      <td>Customer Service</td>\n",
       "      <td>Insurance</td>\n",
       "      <td>1800</td>\n",
       "      <td>3000</td>\n",
       "    </tr>\n",
       "    <tr>\n",
       "      <th>28</th>\n",
       "      <td>Real Estate Negotiator | Property Consultant</td>\n",
       "      <td>Astar Talent Services</td>\n",
       "      <td>Property/Real Estate &gt; Property Sales</td>\n",
       "      <td>Exhibitions / Event Mgmt</td>\n",
       "      <td>10000</td>\n",
       "      <td>20000</td>\n",
       "    </tr>\n",
       "    <tr>\n",
       "      <th>29</th>\n",
       "      <td>Feed Technical Service Executive (Veterinarian)</td>\n",
       "      <td>JBFM Flour Mill Sdn Bhd</td>\n",
       "      <td>Doctor/Diagnosis</td>\n",
       "      <td>Manufacturing / Production</td>\n",
       "      <td>3000</td>\n",
       "      <td>3500</td>\n",
       "    </tr>\n",
       "    <tr>\n",
       "      <th>...</th>\n",
       "      <td>...</td>\n",
       "      <td>...</td>\n",
       "      <td>...</td>\n",
       "      <td>...</td>\n",
       "      <td>...</td>\n",
       "      <td>...</td>\n",
       "    </tr>\n",
       "    <tr>\n",
       "      <th>93</th>\n",
       "      <td>Design Engineer (Graduate Trainee) – EE / Mech...</td>\n",
       "      <td>Plexus Manufacturing Sdn Bhd</td>\n",
       "      <td>Electrical Engineering &gt; R&amp;D Engineer</td>\n",
       "      <td>Electrical &amp; Electronics</td>\n",
       "      <td>2800</td>\n",
       "      <td>3500</td>\n",
       "    </tr>\n",
       "    <tr>\n",
       "      <th>94</th>\n",
       "      <td>[CR] (Fresh Graduate) Sales Officer, Perai RM2...</td>\n",
       "      <td>Agensi Pekerjaan Reeracoen Malaysia Sdn Bhd</td>\n",
       "      <td>Retail Sales</td>\n",
       "      <td>Transportation / Logistics</td>\n",
       "      <td>2400</td>\n",
       "      <td>2500</td>\n",
       "    </tr>\n",
       "    <tr>\n",
       "      <th>95</th>\n",
       "      <td>Test Development Engineer | Fresh Graduates</td>\n",
       "      <td>Western Digital</td>\n",
       "      <td>Electronics Engineering &gt; R&amp;D Engineer</td>\n",
       "      <td>Manufacturing / Production</td>\n",
       "      <td>NaN</td>\n",
       "      <td>NaN</td>\n",
       "    </tr>\n",
       "    <tr>\n",
       "      <th>96</th>\n",
       "      <td>Project Admin / Office Admin</td>\n",
       "      <td>Jelang Wangsa Sdn Bhd</td>\n",
       "      <td>Clerical/Administrative</td>\n",
       "      <td>Construction / Building</td>\n",
       "      <td>NaN</td>\n",
       "      <td>NaN</td>\n",
       "    </tr>\n",
       "    <tr>\n",
       "      <th>97</th>\n",
       "      <td>Graduate Trainee (Mechanical &amp; Electrical Engi...</td>\n",
       "      <td>UEM Edgenta Berhad</td>\n",
       "      <td>Mechanical/Automotive Engineering &gt; Mechanical...</td>\n",
       "      <td>Construction / Building</td>\n",
       "      <td>2000</td>\n",
       "      <td>2100</td>\n",
       "    </tr>\n",
       "    <tr>\n",
       "      <th>98</th>\n",
       "      <td>Software Engineer - .NET [PG Island] (BG41)</td>\n",
       "      <td>timesconsult</td>\n",
       "      <td>IT - Software &gt; Software Engineer/Programmer</td>\n",
       "      <td>Engineering / Technical Consulting</td>\n",
       "      <td>NaN</td>\n",
       "      <td>NaN</td>\n",
       "    </tr>\n",
       "    <tr>\n",
       "      <th>99</th>\n",
       "      <td>Language Interpreter ( Mandarin ) - Work From ...</td>\n",
       "      <td>KELLYOCG MALAYSIA SDN BHD</td>\n",
       "      <td>Customer Service</td>\n",
       "      <td>HR Mgmt / Consulting</td>\n",
       "      <td>4800</td>\n",
       "      <td>5280</td>\n",
       "    </tr>\n",
       "    <tr>\n",
       "      <th>100</th>\n",
       "      <td>Accounting Graduate Trainee</td>\n",
       "      <td>Intel Technology Sdn. Bhd.</td>\n",
       "      <td>General/Cost Accounting &gt; Financial Accounting...</td>\n",
       "      <td>Semiconductor</td>\n",
       "      <td>NaN</td>\n",
       "      <td>NaN</td>\n",
       "    </tr>\n",
       "    <tr>\n",
       "      <th>101</th>\n",
       "      <td>[Work From Home] RM4800- Interpreter (Mandarin...</td>\n",
       "      <td>Kelly Search</td>\n",
       "      <td>Customer Service</td>\n",
       "      <td>Call Center / BPO</td>\n",
       "      <td>4800</td>\n",
       "      <td>5500</td>\n",
       "    </tr>\n",
       "    <tr>\n",
       "      <th>102</th>\n",
       "      <td>Personal Banker(Banca)-Top Bank - High Basic H...</td>\n",
       "      <td>Agensi Pekerjaan BGC Group (Malaysia) Sdn Bhd</td>\n",
       "      <td>Sales - Financial Services</td>\n",
       "      <td>Banking / Finance</td>\n",
       "      <td>2500</td>\n",
       "      <td>5000</td>\n",
       "    </tr>\n",
       "    <tr>\n",
       "      <th>103</th>\n",
       "      <td>Financial Wealth Banker (Fresh / Experienced I...</td>\n",
       "      <td>ACHIEVE Career Consultant (M) Sdn Bhd (JTKSM 5...</td>\n",
       "      <td>Banking/Financial &gt; Financial Planning/Wealth ...</td>\n",
       "      <td>HR Mgmt / Consulting</td>\n",
       "      <td>3000</td>\n",
       "      <td>5600</td>\n",
       "    </tr>\n",
       "    <tr>\n",
       "      <th>104</th>\n",
       "      <td>Accounts Payable</td>\n",
       "      <td>Kelly Contingent Workforce Recruitment Penang</td>\n",
       "      <td>General/Cost Accounting &gt; Financial Accounting...</td>\n",
       "      <td>NaN</td>\n",
       "      <td>2700</td>\n",
       "      <td>3200</td>\n",
       "    </tr>\n",
       "    <tr>\n",
       "      <th>105</th>\n",
       "      <td>Personal Financial Banker (Fresh Grads / Exper...</td>\n",
       "      <td>ACHIEVE Career Consultant (M) Sdn Bhd (JTKSM 5...</td>\n",
       "      <td>Banking/Financial &gt; Financial Planning/Wealth ...</td>\n",
       "      <td>HR Mgmt / Consulting</td>\n",
       "      <td>NaN</td>\n",
       "      <td>NaN</td>\n",
       "    </tr>\n",
       "    <tr>\n",
       "      <th>106</th>\n",
       "      <td>REAL ESTATE NEGOTIABLE</td>\n",
       "      <td>IQI REAL ESTATE SDN BHD</td>\n",
       "      <td>Property/Real Estate &gt; Property Sales</td>\n",
       "      <td>Property / Real Estate</td>\n",
       "      <td>10000</td>\n",
       "      <td>20000</td>\n",
       "    </tr>\n",
       "    <tr>\n",
       "      <th>107</th>\n",
       "      <td>Machinist</td>\n",
       "      <td>K.K. CHOONG ENGINEERING SDN. BHD.</td>\n",
       "      <td>Manufacturing &gt; Toolmaker/Machinist</td>\n",
       "      <td>Manufacturing / Production</td>\n",
       "      <td>1200</td>\n",
       "      <td>2000</td>\n",
       "    </tr>\n",
       "    <tr>\n",
       "      <th>108</th>\n",
       "      <td>Field Engineer (Fresh Graduates Only)</td>\n",
       "      <td>Motorola Solutions Malaysia Sdn Bhd</td>\n",
       "      <td>IT - Network/Sys/DB Admin &gt; Infrastructure Sec...</td>\n",
       "      <td>Telecommunication</td>\n",
       "      <td>NaN</td>\n",
       "      <td>NaN</td>\n",
       "    </tr>\n",
       "    <tr>\n",
       "      <th>109</th>\n",
       "      <td>Vehicle Technician</td>\n",
       "      <td>QIS AUTO CENTRE</td>\n",
       "      <td>Mechanical/Automotive Engineering &gt; Technician...</td>\n",
       "      <td>Automobile / Automotive</td>\n",
       "      <td>1500</td>\n",
       "      <td>2800</td>\n",
       "    </tr>\n",
       "    <tr>\n",
       "      <th>110</th>\n",
       "      <td>Real Estate Negotiator / Property Agent</td>\n",
       "      <td>Chester Property</td>\n",
       "      <td>Property/Real Estate &gt; Real Estate Negotiator</td>\n",
       "      <td>Property / Real Estate</td>\n",
       "      <td>3000</td>\n",
       "      <td>6000</td>\n",
       "    </tr>\n",
       "    <tr>\n",
       "      <th>111</th>\n",
       "      <td>Sales Management Program (Penang) - Entry Level</td>\n",
       "      <td>OCBC Bank (Malaysia) Berhad</td>\n",
       "      <td>Sales - Financial Services</td>\n",
       "      <td>Banking / Finance</td>\n",
       "      <td>NaN</td>\n",
       "      <td>NaN</td>\n",
       "    </tr>\n",
       "    <tr>\n",
       "      <th>112</th>\n",
       "      <td>Education Advisor (Mandarin Speaking)</td>\n",
       "      <td>Study International Education Consult Sdn Bhd</td>\n",
       "      <td>Education &gt; Education Counselor</td>\n",
       "      <td>Education</td>\n",
       "      <td>1800</td>\n",
       "      <td>2500</td>\n",
       "    </tr>\n",
       "    <tr>\n",
       "      <th>113</th>\n",
       "      <td>Sales Specialist (Fresh Grad / Experienced) - ...</td>\n",
       "      <td>timesconsult</td>\n",
       "      <td>Sales - Financial Services</td>\n",
       "      <td>Banking / Finance</td>\n",
       "      <td>2400</td>\n",
       "      <td>4000</td>\n",
       "    </tr>\n",
       "    <tr>\n",
       "      <th>114</th>\n",
       "      <td>Business Development Executive / Sales(Forklif...</td>\n",
       "      <td>ASK Resources</td>\n",
       "      <td>Marketing/Business Dev</td>\n",
       "      <td>Automobile / Automotive</td>\n",
       "      <td>2500</td>\n",
       "      <td>3700</td>\n",
       "    </tr>\n",
       "    <tr>\n",
       "      <th>115</th>\n",
       "      <td>Graduate Employability Program (GEP)</td>\n",
       "      <td>Company Confidential</td>\n",
       "      <td>Civil Engineering/Construction &gt; Civil Engineer</td>\n",
       "      <td>Construction / Building</td>\n",
       "      <td>NaN</td>\n",
       "      <td>NaN</td>\n",
       "    </tr>\n",
       "    <tr>\n",
       "      <th>116</th>\n",
       "      <td>Sales Assistant (Open to Fresh Grad)</td>\n",
       "      <td>Smith &amp; Associates Malaysia Sdn Bhd</td>\n",
       "      <td>Sales - Corporate</td>\n",
       "      <td>Electrical &amp; Electronics</td>\n",
       "      <td>NaN</td>\n",
       "      <td>NaN</td>\n",
       "    </tr>\n",
       "    <tr>\n",
       "      <th>117</th>\n",
       "      <td>Trainee Proprietary Day Traders (Based in Penang)</td>\n",
       "      <td>Affin Hwang Investment Bank Berhad</td>\n",
       "      <td>Banking/Financial &gt; Corporate Banking</td>\n",
       "      <td>Banking / Finance</td>\n",
       "      <td>NaN</td>\n",
       "      <td>NaN</td>\n",
       "    </tr>\n",
       "    <tr>\n",
       "      <th>118</th>\n",
       "      <td>[Yc] Engineer (Japanese Speaker) - Perai RM2,0...</td>\n",
       "      <td>Agensi Pekerjaan Reeracoen Malaysia Sdn Bhd</td>\n",
       "      <td>Mechanical/Automotive Engineering &gt; Process En...</td>\n",
       "      <td>Manufacturing / Production</td>\n",
       "      <td>2000</td>\n",
       "      <td>4000</td>\n",
       "    </tr>\n",
       "    <tr>\n",
       "      <th>119</th>\n",
       "      <td>Personal Banker (Wealth) -Top Bank-High Basic ...</td>\n",
       "      <td>Agensi Pekerjaan BGC Group (Malaysia) Sdn Bhd</td>\n",
       "      <td>Sales - Financial Services</td>\n",
       "      <td>Banking / Finance</td>\n",
       "      <td>4000</td>\n",
       "      <td>8000</td>\n",
       "    </tr>\n",
       "    <tr>\n",
       "      <th>120</th>\n",
       "      <td>Sales Cum Business Development Executive - Lea...</td>\n",
       "      <td>Premium Talent Search (PTS)</td>\n",
       "      <td>Sales - Corporate</td>\n",
       "      <td>Advertising / Marketing / PR</td>\n",
       "      <td>2000</td>\n",
       "      <td>4000</td>\n",
       "    </tr>\n",
       "    <tr>\n",
       "      <th>121</th>\n",
       "      <td>Software Engineer</td>\n",
       "      <td>Jabil Circuit Sdn Bhd</td>\n",
       "      <td>IT - Software &gt; Software Engineer/Programmer</td>\n",
       "      <td>Electrical &amp; Electronics</td>\n",
       "      <td>NaN</td>\n",
       "      <td>NaN</td>\n",
       "    </tr>\n",
       "    <tr>\n",
       "      <th>122</th>\n",
       "      <td>Personal Banker (Bancassurance) -Direct Bank- ...</td>\n",
       "      <td>Agensi Pekerjaan BGC Group (Malaysia) Sdn Bhd</td>\n",
       "      <td>Sales - Financial Services</td>\n",
       "      <td>Banking / Finance</td>\n",
       "      <td>2500</td>\n",
       "      <td>5000</td>\n",
       "    </tr>\n",
       "  </tbody>\n",
       "</table>\n",
       "<p>123 rows × 6 columns</p>\n",
       "</div>"
      ],
      "text/plain": [
       "                                             Job_Title  \\\n",
       "0                                   IT Sales Executive   \n",
       "1                                Electronic Technician   \n",
       "2                                   Product Specialist   \n",
       "3                     Business Development Coordinator   \n",
       "4                Software Engineering Graduate Trainee   \n",
       "5    SALES EXECUTIVE / REPRESENTATIVE (Penang / Kua...   \n",
       "6           MYS CTSM PG - AML FIU Analyst - (20181561)   \n",
       "7             Telesales Customer Service - Call Centre   \n",
       "8                                      RMA Coordinator   \n",
       "9                               Product Sales Engineer   \n",
       "10     Sales Management Program (Penang) - Entry Level   \n",
       "11   Personal Financial Banker (Fresh Grads / Exper...   \n",
       "12   Mobile Game Developer ( Multiplayer / HTML5 / ...   \n",
       "13                     IT Technical Support Specialist   \n",
       "14                  营销主管 (实习 或 全职） Marketing Executive   \n",
       "15   Content Review Analyst - Thai ผู้วิเคราะห์คอนเ...   \n",
       "16   Telephone sales / 电话销售员 / Nhân viên bán hàng q...   \n",
       "17                        PROGRAM MANAGEMENT EXECUTIVE   \n",
       "18   Personal Banker(Banca)-Top Bank - High Basic H...   \n",
       "19                                    Registered Nurse   \n",
       "20                                     Legal Assistant   \n",
       "21   Personal Banker (Wealth) -Top Bank-High Basic ...   \n",
       "22                           Lab Equipment Coordinator   \n",
       "23     Failure Analysis Engineer / Technician (Penang)   \n",
       "24   Video / Voice Interpreter Cantonese - English ...   \n",
       "25                             ANIMATION & UI DESIGNER   \n",
       "26                                    HR Administrator   \n",
       "27                         Executive, Business Support   \n",
       "28        Real Estate Negotiator | Property Consultant   \n",
       "29     Feed Technical Service Executive (Veterinarian)   \n",
       "..                                                 ...   \n",
       "93   Design Engineer (Graduate Trainee) – EE / Mech...   \n",
       "94   [CR] (Fresh Graduate) Sales Officer, Perai RM2...   \n",
       "95         Test Development Engineer | Fresh Graduates   \n",
       "96                        Project Admin / Office Admin   \n",
       "97   Graduate Trainee (Mechanical & Electrical Engi...   \n",
       "98         Software Engineer - .NET [PG Island] (BG41)   \n",
       "99   Language Interpreter ( Mandarin ) - Work From ...   \n",
       "100                        Accounting Graduate Trainee   \n",
       "101  [Work From Home] RM4800- Interpreter (Mandarin...   \n",
       "102  Personal Banker(Banca)-Top Bank - High Basic H...   \n",
       "103  Financial Wealth Banker (Fresh / Experienced I...   \n",
       "104                                   Accounts Payable   \n",
       "105  Personal Financial Banker (Fresh Grads / Exper...   \n",
       "106                             REAL ESTATE NEGOTIABLE   \n",
       "107                                          Machinist   \n",
       "108              Field Engineer (Fresh Graduates Only)   \n",
       "109                                 Vehicle Technician   \n",
       "110            Real Estate Negotiator / Property Agent   \n",
       "111    Sales Management Program (Penang) - Entry Level   \n",
       "112              Education Advisor (Mandarin Speaking)   \n",
       "113  Sales Specialist (Fresh Grad / Experienced) - ...   \n",
       "114  Business Development Executive / Sales(Forklif...   \n",
       "115               Graduate Employability Program (GEP)   \n",
       "116               Sales Assistant (Open to Fresh Grad)   \n",
       "117  Trainee Proprietary Day Traders (Based in Penang)   \n",
       "118  [Yc] Engineer (Japanese Speaker) - Perai RM2,0...   \n",
       "119  Personal Banker (Wealth) -Top Bank-High Basic ...   \n",
       "120  Sales Cum Business Development Executive - Lea...   \n",
       "121                                  Software Engineer   \n",
       "122  Personal Banker (Bancassurance) -Direct Bank- ...   \n",
       "\n",
       "                                               Company  \\\n",
       "0                                  SiteGiant Sdn. Bhd.   \n",
       "1             Agensi Pekerjaan NCS Solutions Sdn. Bhd.   \n",
       "2                           Sun Pharmaceutical Sdn Bhd   \n",
       "3                    UBCT INDUSTRIAL SOLUTION SDN.BHD.   \n",
       "4                           Intel Technology Sdn. Bhd.   \n",
       "5                           Panasonic Malaysia Sdn Bhd   \n",
       "6             04235 Citigroup Transaction Services (M)   \n",
       "7                           LEACOV SINGAPORE PTE. LTD.   \n",
       "8      Venture Electronics Services (Malaysia) Sdn Bhd   \n",
       "9                              Kumpulan Abex Sdn. Bhd.   \n",
       "10                         OCBC Bank (Malaysia) Berhad   \n",
       "11   ACHIEVE Career Consultant (M) Sdn Bhd (JTKSM 5...   \n",
       "12                         Impact360 Solutions Sdn Bhd   \n",
       "13                                Company Confidential   \n",
       "14                             Straits Advisor Sdn Bhd   \n",
       "15                    Teleperformance Malaysia Sdn Bhd   \n",
       "16                                    MG SOLAR Pty Ltd   \n",
       "17                     Amphenol TCS (Malaysia) Sdn Bhd   \n",
       "18       Agensi Pekerjaan BGC Group (Malaysia) Sdn Bhd   \n",
       "19    Cherish Postnatal Retreat & Breastfeeding Center   \n",
       "20                                       Ibrahim & Kim   \n",
       "21       Agensi Pekerjaan BGC Group (Malaysia) Sdn Bhd   \n",
       "22            Agensi Pekerjaan NCS Solutions Sdn. Bhd.   \n",
       "23            Agensi Pekerjaan NCS Solutions Sdn. Bhd.   \n",
       "24                    Teleperformance Malaysia Sdn Bhd   \n",
       "25                      Mula Car International Sdn Bhd   \n",
       "26                         AGCO GSI (Malaysia) Sdn Bhd   \n",
       "27                                            AIA Bhd.   \n",
       "28                               Astar Talent Services   \n",
       "29                             JBFM Flour Mill Sdn Bhd   \n",
       "..                                                 ...   \n",
       "93                        Plexus Manufacturing Sdn Bhd   \n",
       "94         Agensi Pekerjaan Reeracoen Malaysia Sdn Bhd   \n",
       "95                                     Western Digital   \n",
       "96                               Jelang Wangsa Sdn Bhd   \n",
       "97                                  UEM Edgenta Berhad   \n",
       "98                                        timesconsult   \n",
       "99                           KELLYOCG MALAYSIA SDN BHD   \n",
       "100                         Intel Technology Sdn. Bhd.   \n",
       "101                                       Kelly Search   \n",
       "102      Agensi Pekerjaan BGC Group (Malaysia) Sdn Bhd   \n",
       "103  ACHIEVE Career Consultant (M) Sdn Bhd (JTKSM 5...   \n",
       "104      Kelly Contingent Workforce Recruitment Penang   \n",
       "105  ACHIEVE Career Consultant (M) Sdn Bhd (JTKSM 5...   \n",
       "106                            IQI REAL ESTATE SDN BHD   \n",
       "107                  K.K. CHOONG ENGINEERING SDN. BHD.   \n",
       "108                Motorola Solutions Malaysia Sdn Bhd   \n",
       "109                                    QIS AUTO CENTRE   \n",
       "110                                   Chester Property   \n",
       "111                        OCBC Bank (Malaysia) Berhad   \n",
       "112      Study International Education Consult Sdn Bhd   \n",
       "113                                       timesconsult   \n",
       "114                                      ASK Resources   \n",
       "115                               Company Confidential   \n",
       "116                Smith & Associates Malaysia Sdn Bhd   \n",
       "117                 Affin Hwang Investment Bank Berhad   \n",
       "118        Agensi Pekerjaan Reeracoen Malaysia Sdn Bhd   \n",
       "119      Agensi Pekerjaan BGC Group (Malaysia) Sdn Bhd   \n",
       "120                        Premium Talent Search (PTS)   \n",
       "121                              Jabil Circuit Sdn Bhd   \n",
       "122      Agensi Pekerjaan BGC Group (Malaysia) Sdn Bhd   \n",
       "\n",
       "                                          Job_Category  \\\n",
       "0                                  Sales - Eng/Tech/IT   \n",
       "1    Electronics Engineering > Electronics Technici...   \n",
       "2                                    Sales - Corporate   \n",
       "3                               Marketing/Business Dev   \n",
       "4         IT - Software > Software Engineer/Programmer   \n",
       "5                                         Retail Sales   \n",
       "6                                    Banking/Financial   \n",
       "7                              Telesales/Telemarketing   \n",
       "8                                    Sales - Corporate   \n",
       "9         Electronics Engineering > Product Management   \n",
       "10                          Sales - Financial Services   \n",
       "11   Banking/Financial > Financial Planning/Wealth ...   \n",
       "12        IT - Software > Software Engineer/Programmer   \n",
       "13                             Tech & Helpdesk Support   \n",
       "14                              Marketing/Business Dev   \n",
       "15                                    Customer Service   \n",
       "16                             Telesales/Telemarketing   \n",
       "17                              Marketing/Business Dev   \n",
       "18                          Sales - Financial Services   \n",
       "19                       Nurse/Medical Support > Nurse   \n",
       "20                         Law/Legal Services > Lawyer   \n",
       "21                          Sales - Financial Services   \n",
       "22                             Clerical/Administrative   \n",
       "23      Electronics Engineering > Electronics Engineer   \n",
       "24                                    Customer Service   \n",
       "25                     Arts/Creative Design > Animator   \n",
       "26                                     Human Resources   \n",
       "27                                    Customer Service   \n",
       "28               Property/Real Estate > Property Sales   \n",
       "29                                    Doctor/Diagnosis   \n",
       "..                                                 ...   \n",
       "93               Electrical Engineering > R&D Engineer   \n",
       "94                                        Retail Sales   \n",
       "95              Electronics Engineering > R&D Engineer   \n",
       "96                             Clerical/Administrative   \n",
       "97   Mechanical/Automotive Engineering > Mechanical...   \n",
       "98        IT - Software > Software Engineer/Programmer   \n",
       "99                                    Customer Service   \n",
       "100  General/Cost Accounting > Financial Accounting...   \n",
       "101                                   Customer Service   \n",
       "102                         Sales - Financial Services   \n",
       "103  Banking/Financial > Financial Planning/Wealth ...   \n",
       "104  General/Cost Accounting > Financial Accounting...   \n",
       "105  Banking/Financial > Financial Planning/Wealth ...   \n",
       "106              Property/Real Estate > Property Sales   \n",
       "107                Manufacturing > Toolmaker/Machinist   \n",
       "108  IT - Network/Sys/DB Admin > Infrastructure Sec...   \n",
       "109  Mechanical/Automotive Engineering > Technician...   \n",
       "110      Property/Real Estate > Real Estate Negotiator   \n",
       "111                         Sales - Financial Services   \n",
       "112                    Education > Education Counselor   \n",
       "113                         Sales - Financial Services   \n",
       "114                             Marketing/Business Dev   \n",
       "115    Civil Engineering/Construction > Civil Engineer   \n",
       "116                                  Sales - Corporate   \n",
       "117              Banking/Financial > Corporate Banking   \n",
       "118  Mechanical/Automotive Engineering > Process En...   \n",
       "119                         Sales - Financial Services   \n",
       "120                                  Sales - Corporate   \n",
       "121       IT - Software > Software Engineer/Programmer   \n",
       "122                         Sales - Financial Services   \n",
       "\n",
       "                                Industry Min_Salary Max_Salary  \n",
       "0                          IT / Software      2500        4000  \n",
       "1                   HR Mgmt / Consulting      1800        2400  \n",
       "2               BioTech / Pharmaceutical      2200        3200  \n",
       "3             Manufacturing / Production      1800        2500  \n",
       "4                          Semiconductor        NaN        NaN  \n",
       "5               Electrical & Electronics        NaN        NaN  \n",
       "6                      Banking / Finance        NaN        NaN  \n",
       "7                              Education        NaN        NaN  \n",
       "8             Manufacturing / Production        NaN        NaN  \n",
       "9                      Telecommunication        NaN        NaN  \n",
       "10                     Banking / Finance        NaN        NaN  \n",
       "11                  HR Mgmt / Consulting        NaN        NaN  \n",
       "12                 Entertainment / Media      2000        3000  \n",
       "13                  HR Mgmt / Consulting      2500        5000  \n",
       "14                     Banking / Finance      1500        3000  \n",
       "15                     Call Center / BPO      3500        4300  \n",
       "16                     Call Center / BPO      1500        2300  \n",
       "17            Manufacturing / Production        NaN        NaN  \n",
       "18                     Banking / Finance      2500        5000  \n",
       "19                   Hotel / Hospitality      1800        2200  \n",
       "20             Accounting / Tax Services        NaN        NaN  \n",
       "21                     Banking / Finance      4000        8000  \n",
       "22                  HR Mgmt / Consulting      1600        2000  \n",
       "23                  HR Mgmt / Consulting      1800        3000  \n",
       "24                     Call Center / BPO      3000        6000  \n",
       "25            Transportation / Logistics      2800        3500  \n",
       "26            Manufacturing / Production        NaN        NaN  \n",
       "27                             Insurance      1800        3000  \n",
       "28              Exhibitions / Event Mgmt     10000       20000  \n",
       "29            Manufacturing / Production      3000        3500  \n",
       "..                                   ...        ...        ...  \n",
       "93              Electrical & Electronics      2800        3500  \n",
       "94            Transportation / Logistics      2400        2500  \n",
       "95            Manufacturing / Production        NaN        NaN  \n",
       "96               Construction / Building        NaN        NaN  \n",
       "97               Construction / Building      2000        2100  \n",
       "98    Engineering / Technical Consulting        NaN        NaN  \n",
       "99                  HR Mgmt / Consulting      4800        5280  \n",
       "100                        Semiconductor        NaN        NaN  \n",
       "101                    Call Center / BPO      4800        5500  \n",
       "102                    Banking / Finance      2500        5000  \n",
       "103                 HR Mgmt / Consulting      3000        5600  \n",
       "104                                  NaN      2700        3200  \n",
       "105                 HR Mgmt / Consulting        NaN        NaN  \n",
       "106               Property / Real Estate     10000       20000  \n",
       "107           Manufacturing / Production      1200        2000  \n",
       "108                    Telecommunication        NaN        NaN  \n",
       "109              Automobile / Automotive      1500        2800  \n",
       "110               Property / Real Estate      3000        6000  \n",
       "111                    Banking / Finance        NaN        NaN  \n",
       "112                            Education      1800        2500  \n",
       "113                    Banking / Finance      2400        4000  \n",
       "114              Automobile / Automotive      2500        3700  \n",
       "115              Construction / Building        NaN        NaN  \n",
       "116             Electrical & Electronics        NaN        NaN  \n",
       "117                    Banking / Finance        NaN        NaN  \n",
       "118           Manufacturing / Production      2000        4000  \n",
       "119                    Banking / Finance      4000        8000  \n",
       "120         Advertising / Marketing / PR      2000        4000  \n",
       "121             Electrical & Electronics        NaN        NaN  \n",
       "122                    Banking / Finance      2500        5000  \n",
       "\n",
       "[123 rows x 6 columns]"
      ]
     },
     "execution_count": 12,
     "metadata": {},
     "output_type": "execute_result"
    }
   ],
   "source": [
    "df"
   ]
  },
  {
   "cell_type": "code",
   "execution_count": 13,
   "metadata": {},
   "outputs": [
    {
     "name": "stdout",
     "output_type": "stream",
     "text": [
      "111\n",
      "83\n",
      "48\n",
      "29\n"
     ]
    }
   ],
   "source": [
    "#Check unique obs of each column\n",
    "\n",
    "print(df.Job_Title.nunique())\n",
    "print(df.Company.nunique())\n",
    "print(df.Job_Category.nunique())\n",
    "print(df.Industry.nunique())\n"
   ]
  },
  {
   "cell_type": "code",
   "execution_count": 14,
   "metadata": {},
   "outputs": [
    {
     "data": {
      "text/html": [
       "<div>\n",
       "<style scoped>\n",
       "    .dataframe tbody tr th:only-of-type {\n",
       "        vertical-align: middle;\n",
       "    }\n",
       "\n",
       "    .dataframe tbody tr th {\n",
       "        vertical-align: top;\n",
       "    }\n",
       "\n",
       "    .dataframe thead th {\n",
       "        text-align: right;\n",
       "    }\n",
       "</style>\n",
       "<table border=\"1\" class=\"dataframe\">\n",
       "  <thead>\n",
       "    <tr style=\"text-align: right;\">\n",
       "      <th></th>\n",
       "      <th>Job_Title</th>\n",
       "      <th>Company</th>\n",
       "      <th>Job_Category</th>\n",
       "      <th>Industry</th>\n",
       "      <th>Min_Salary</th>\n",
       "      <th>Max_Salary</th>\n",
       "    </tr>\n",
       "  </thead>\n",
       "  <tbody>\n",
       "    <tr>\n",
       "      <th>count</th>\n",
       "      <td>123</td>\n",
       "      <td>123</td>\n",
       "      <td>123</td>\n",
       "      <td>121</td>\n",
       "      <td>70</td>\n",
       "      <td>70</td>\n",
       "    </tr>\n",
       "    <tr>\n",
       "      <th>unique</th>\n",
       "      <td>111</td>\n",
       "      <td>83</td>\n",
       "      <td>48</td>\n",
       "      <td>29</td>\n",
       "      <td>22</td>\n",
       "      <td>28</td>\n",
       "    </tr>\n",
       "    <tr>\n",
       "      <th>top</th>\n",
       "      <td>Personal Banker(Banca)-Top Bank - High Basic H...</td>\n",
       "      <td>Agensi Pekerjaan BGC Group (Malaysia) Sdn Bhd</td>\n",
       "      <td>Sales - Financial Services</td>\n",
       "      <td>Banking / Finance</td>\n",
       "      <td>2500</td>\n",
       "      <td>5000</td>\n",
       "    </tr>\n",
       "    <tr>\n",
       "      <th>freq</th>\n",
       "      <td>4</td>\n",
       "      <td>10</td>\n",
       "      <td>19</td>\n",
       "      <td>26</td>\n",
       "      <td>13</td>\n",
       "      <td>8</td>\n",
       "    </tr>\n",
       "  </tbody>\n",
       "</table>\n",
       "</div>"
      ],
      "text/plain": [
       "                                                Job_Title  \\\n",
       "count                                                 123   \n",
       "unique                                                111   \n",
       "top     Personal Banker(Banca)-Top Bank - High Basic H...   \n",
       "freq                                                    4   \n",
       "\n",
       "                                              Company  \\\n",
       "count                                             123   \n",
       "unique                                             83   \n",
       "top     Agensi Pekerjaan BGC Group (Malaysia) Sdn Bhd   \n",
       "freq                                               10   \n",
       "\n",
       "                      Job_Category            Industry Min_Salary Max_Salary  \n",
       "count                          123                 121         70         70  \n",
       "unique                          48                  29         22         28  \n",
       "top     Sales - Financial Services   Banking / Finance      2500        5000  \n",
       "freq                            19                  26         13          8  "
      ]
     },
     "execution_count": 14,
     "metadata": {},
     "output_type": "execute_result"
    }
   ],
   "source": [
    "df.describe(include = \"all\")"
   ]
  },
  {
   "cell_type": "code",
   "execution_count": 15,
   "metadata": {},
   "outputs": [
    {
     "data": {
      "text/html": [
       "<style  type=\"text/css\" >\n",
       "    #T_955d81cc_89df_11ea_a096_c8f7506da589row0_col1 {\n",
       "            background-color:  #00441b;\n",
       "            color:  #f1f1f1;\n",
       "        }    #T_955d81cc_89df_11ea_a096_c8f7506da589row1_col1 {\n",
       "            background-color:  #73c476;\n",
       "            color:  #000000;\n",
       "        }    #T_955d81cc_89df_11ea_a096_c8f7506da589row2_col1 {\n",
       "            background-color:  #a0d99b;\n",
       "            color:  #000000;\n",
       "        }    #T_955d81cc_89df_11ea_a096_c8f7506da589row3_col1 {\n",
       "            background-color:  #b4e1ad;\n",
       "            color:  #000000;\n",
       "        }    #T_955d81cc_89df_11ea_a096_c8f7506da589row4_col1 {\n",
       "            background-color:  #b4e1ad;\n",
       "            color:  #000000;\n",
       "        }    #T_955d81cc_89df_11ea_a096_c8f7506da589row5_col1 {\n",
       "            background-color:  #c7e9c0;\n",
       "            color:  #000000;\n",
       "        }    #T_955d81cc_89df_11ea_a096_c8f7506da589row6_col1 {\n",
       "            background-color:  #e5f5e0;\n",
       "            color:  #000000;\n",
       "        }    #T_955d81cc_89df_11ea_a096_c8f7506da589row7_col1 {\n",
       "            background-color:  #e5f5e0;\n",
       "            color:  #000000;\n",
       "        }    #T_955d81cc_89df_11ea_a096_c8f7506da589row8_col1 {\n",
       "            background-color:  #eef8ea;\n",
       "            color:  #000000;\n",
       "        }    #T_955d81cc_89df_11ea_a096_c8f7506da589row9_col1 {\n",
       "            background-color:  #f7fcf5;\n",
       "            color:  #000000;\n",
       "        }</style><table id=\"T_955d81cc_89df_11ea_a096_c8f7506da589\" ><thead>    <tr>        <th class=\"blank level0\" ></th>        <th class=\"col_heading level0 col0\" >Job Category</th>        <th class=\"col_heading level0 col1\" >Counts</th>    </tr></thead><tbody>\n",
       "                <tr>\n",
       "                        <th id=\"T_955d81cc_89df_11ea_a096_c8f7506da589level0_row0\" class=\"row_heading level0 row0\" >0</th>\n",
       "                        <td id=\"T_955d81cc_89df_11ea_a096_c8f7506da589row0_col0\" class=\"data row0 col0\" >Sales - Financial Services</td>\n",
       "                        <td id=\"T_955d81cc_89df_11ea_a096_c8f7506da589row0_col1\" class=\"data row0 col1\" >19</td>\n",
       "            </tr>\n",
       "            <tr>\n",
       "                        <th id=\"T_955d81cc_89df_11ea_a096_c8f7506da589level0_row1\" class=\"row_heading level0 row1\" >1</th>\n",
       "                        <td id=\"T_955d81cc_89df_11ea_a096_c8f7506da589row1_col0\" class=\"data row1 col0\" >Retail Sales</td>\n",
       "                        <td id=\"T_955d81cc_89df_11ea_a096_c8f7506da589row1_col1\" class=\"data row1 col1\" >11</td>\n",
       "            </tr>\n",
       "            <tr>\n",
       "                        <th id=\"T_955d81cc_89df_11ea_a096_c8f7506da589level0_row2\" class=\"row_heading level0 row2\" >2</th>\n",
       "                        <td id=\"T_955d81cc_89df_11ea_a096_c8f7506da589row2_col0\" class=\"data row2 col0\" >Banking/Financial > Financial Planning/Wealth Management</td>\n",
       "                        <td id=\"T_955d81cc_89df_11ea_a096_c8f7506da589row2_col1\" class=\"data row2 col1\" >9</td>\n",
       "            </tr>\n",
       "            <tr>\n",
       "                        <th id=\"T_955d81cc_89df_11ea_a096_c8f7506da589level0_row3\" class=\"row_heading level0 row3\" >3</th>\n",
       "                        <td id=\"T_955d81cc_89df_11ea_a096_c8f7506da589row3_col0\" class=\"data row3 col0\" >Sales - Corporate</td>\n",
       "                        <td id=\"T_955d81cc_89df_11ea_a096_c8f7506da589row3_col1\" class=\"data row3 col1\" >8</td>\n",
       "            </tr>\n",
       "            <tr>\n",
       "                        <th id=\"T_955d81cc_89df_11ea_a096_c8f7506da589level0_row4\" class=\"row_heading level0 row4\" >4</th>\n",
       "                        <td id=\"T_955d81cc_89df_11ea_a096_c8f7506da589row4_col0\" class=\"data row4 col0\" >Marketing/Business Dev</td>\n",
       "                        <td id=\"T_955d81cc_89df_11ea_a096_c8f7506da589row4_col1\" class=\"data row4 col1\" >8</td>\n",
       "            </tr>\n",
       "            <tr>\n",
       "                        <th id=\"T_955d81cc_89df_11ea_a096_c8f7506da589level0_row5\" class=\"row_heading level0 row5\" >5</th>\n",
       "                        <td id=\"T_955d81cc_89df_11ea_a096_c8f7506da589row5_col0\" class=\"data row5 col0\" >Customer Service</td>\n",
       "                        <td id=\"T_955d81cc_89df_11ea_a096_c8f7506da589row5_col1\" class=\"data row5 col1\" >7</td>\n",
       "            </tr>\n",
       "            <tr>\n",
       "                        <th id=\"T_955d81cc_89df_11ea_a096_c8f7506da589level0_row6\" class=\"row_heading level0 row6\" >6</th>\n",
       "                        <td id=\"T_955d81cc_89df_11ea_a096_c8f7506da589row6_col0\" class=\"data row6 col0\" >IT - Software > Software Engineer/Programmer</td>\n",
       "                        <td id=\"T_955d81cc_89df_11ea_a096_c8f7506da589row6_col1\" class=\"data row6 col1\" >5</td>\n",
       "            </tr>\n",
       "            <tr>\n",
       "                        <th id=\"T_955d81cc_89df_11ea_a096_c8f7506da589level0_row7\" class=\"row_heading level0 row7\" >7</th>\n",
       "                        <td id=\"T_955d81cc_89df_11ea_a096_c8f7506da589row7_col0\" class=\"data row7 col0\" >Clerical/Administrative</td>\n",
       "                        <td id=\"T_955d81cc_89df_11ea_a096_c8f7506da589row7_col1\" class=\"data row7 col1\" >5</td>\n",
       "            </tr>\n",
       "            <tr>\n",
       "                        <th id=\"T_955d81cc_89df_11ea_a096_c8f7506da589level0_row8\" class=\"row_heading level0 row8\" >8</th>\n",
       "                        <td id=\"T_955d81cc_89df_11ea_a096_c8f7506da589row8_col0\" class=\"data row8 col0\" >Banking/Financial</td>\n",
       "                        <td id=\"T_955d81cc_89df_11ea_a096_c8f7506da589row8_col1\" class=\"data row8 col1\" >4</td>\n",
       "            </tr>\n",
       "            <tr>\n",
       "                        <th id=\"T_955d81cc_89df_11ea_a096_c8f7506da589level0_row9\" class=\"row_heading level0 row9\" >9</th>\n",
       "                        <td id=\"T_955d81cc_89df_11ea_a096_c8f7506da589row9_col0\" class=\"data row9 col0\" >Sales - Eng/Tech/IT</td>\n",
       "                        <td id=\"T_955d81cc_89df_11ea_a096_c8f7506da589row9_col1\" class=\"data row9 col1\" >3</td>\n",
       "            </tr>\n",
       "    </tbody></table>"
      ],
      "text/plain": [
       "<pandas.io.formats.style.Styler at 0x1cd8edb6438>"
      ]
     },
     "execution_count": 15,
     "metadata": {},
     "output_type": "execute_result"
    }
   ],
   "source": [
    "#view top ten job category\n",
    "\n",
    "val = df['Job_Category'].value_counts()[:10]\n",
    "\n",
    "Count_Category = pd.DataFrame(val).reset_index()\n",
    "Count_Category.columns = ['Job Category', 'Counts'] \n",
    "Count_Category.style.background_gradient(cmap='Greens')"
   ]
  },
  {
   "cell_type": "code",
   "execution_count": 18,
   "metadata": {
    "scrolled": true
   },
   "outputs": [
    {
     "data": {
      "application/vnd.plotly.v1+json": {
       "config": {
        "plotlyServerURL": "https://plot.ly"
       },
       "data": [
        {
         "domain": {
          "x": [
           0,
           1
          ],
          "y": [
           0,
           1
          ]
         },
         "hole": 0.3,
         "hovertemplate": "Job Category=%{label}<br>Counts=%{value}<extra></extra>",
         "labels": [
          "Sales - Financial Services",
          "Retail Sales",
          "Banking/Financial > Financial Planning/Wealth Management",
          "Sales - Corporate",
          "Marketing/Business Dev",
          "Customer Service",
          "IT - Software > Software Engineer/Programmer",
          "Clerical/Administrative",
          "Banking/Financial",
          "Sales - Eng/Tech/IT"
         ],
         "legendgroup": "",
         "name": "",
         "showlegend": true,
         "type": "pie",
         "values": [
          19,
          11,
          9,
          8,
          8,
          7,
          5,
          5,
          4,
          3
         ]
        }
       ],
       "layout": {
        "legend": {
         "tracegroupgap": 0
        },
        "piecolorway": [
         "rgb(17, 36, 20)",
         "rgb(23, 55, 35)",
         "rgb(25, 75, 49)",
         "rgb(23, 95, 61)",
         "rgb(13, 117, 71)",
         "rgb(7, 138, 78)",
         "rgb(37, 157, 81)",
         "rgb(85, 174, 91)",
         "rgb(124, 191, 115)",
         "rgb(156, 209, 143)",
         "rgb(186, 228, 174)",
         "rgb(214, 249, 207)"
        ],
        "template": {
         "data": {
          "bar": [
           {
            "error_x": {
             "color": "#2a3f5f"
            },
            "error_y": {
             "color": "#2a3f5f"
            },
            "marker": {
             "line": {
              "color": "#E5ECF6",
              "width": 0.5
             }
            },
            "type": "bar"
           }
          ],
          "barpolar": [
           {
            "marker": {
             "line": {
              "color": "#E5ECF6",
              "width": 0.5
             }
            },
            "type": "barpolar"
           }
          ],
          "carpet": [
           {
            "aaxis": {
             "endlinecolor": "#2a3f5f",
             "gridcolor": "white",
             "linecolor": "white",
             "minorgridcolor": "white",
             "startlinecolor": "#2a3f5f"
            },
            "baxis": {
             "endlinecolor": "#2a3f5f",
             "gridcolor": "white",
             "linecolor": "white",
             "minorgridcolor": "white",
             "startlinecolor": "#2a3f5f"
            },
            "type": "carpet"
           }
          ],
          "choropleth": [
           {
            "colorbar": {
             "outlinewidth": 0,
             "ticks": ""
            },
            "type": "choropleth"
           }
          ],
          "contour": [
           {
            "colorbar": {
             "outlinewidth": 0,
             "ticks": ""
            },
            "colorscale": [
             [
              0,
              "#0d0887"
             ],
             [
              0.1111111111111111,
              "#46039f"
             ],
             [
              0.2222222222222222,
              "#7201a8"
             ],
             [
              0.3333333333333333,
              "#9c179e"
             ],
             [
              0.4444444444444444,
              "#bd3786"
             ],
             [
              0.5555555555555556,
              "#d8576b"
             ],
             [
              0.6666666666666666,
              "#ed7953"
             ],
             [
              0.7777777777777778,
              "#fb9f3a"
             ],
             [
              0.8888888888888888,
              "#fdca26"
             ],
             [
              1,
              "#f0f921"
             ]
            ],
            "type": "contour"
           }
          ],
          "contourcarpet": [
           {
            "colorbar": {
             "outlinewidth": 0,
             "ticks": ""
            },
            "type": "contourcarpet"
           }
          ],
          "heatmap": [
           {
            "colorbar": {
             "outlinewidth": 0,
             "ticks": ""
            },
            "colorscale": [
             [
              0,
              "#0d0887"
             ],
             [
              0.1111111111111111,
              "#46039f"
             ],
             [
              0.2222222222222222,
              "#7201a8"
             ],
             [
              0.3333333333333333,
              "#9c179e"
             ],
             [
              0.4444444444444444,
              "#bd3786"
             ],
             [
              0.5555555555555556,
              "#d8576b"
             ],
             [
              0.6666666666666666,
              "#ed7953"
             ],
             [
              0.7777777777777778,
              "#fb9f3a"
             ],
             [
              0.8888888888888888,
              "#fdca26"
             ],
             [
              1,
              "#f0f921"
             ]
            ],
            "type": "heatmap"
           }
          ],
          "heatmapgl": [
           {
            "colorbar": {
             "outlinewidth": 0,
             "ticks": ""
            },
            "colorscale": [
             [
              0,
              "#0d0887"
             ],
             [
              0.1111111111111111,
              "#46039f"
             ],
             [
              0.2222222222222222,
              "#7201a8"
             ],
             [
              0.3333333333333333,
              "#9c179e"
             ],
             [
              0.4444444444444444,
              "#bd3786"
             ],
             [
              0.5555555555555556,
              "#d8576b"
             ],
             [
              0.6666666666666666,
              "#ed7953"
             ],
             [
              0.7777777777777778,
              "#fb9f3a"
             ],
             [
              0.8888888888888888,
              "#fdca26"
             ],
             [
              1,
              "#f0f921"
             ]
            ],
            "type": "heatmapgl"
           }
          ],
          "histogram": [
           {
            "marker": {
             "colorbar": {
              "outlinewidth": 0,
              "ticks": ""
             }
            },
            "type": "histogram"
           }
          ],
          "histogram2d": [
           {
            "colorbar": {
             "outlinewidth": 0,
             "ticks": ""
            },
            "colorscale": [
             [
              0,
              "#0d0887"
             ],
             [
              0.1111111111111111,
              "#46039f"
             ],
             [
              0.2222222222222222,
              "#7201a8"
             ],
             [
              0.3333333333333333,
              "#9c179e"
             ],
             [
              0.4444444444444444,
              "#bd3786"
             ],
             [
              0.5555555555555556,
              "#d8576b"
             ],
             [
              0.6666666666666666,
              "#ed7953"
             ],
             [
              0.7777777777777778,
              "#fb9f3a"
             ],
             [
              0.8888888888888888,
              "#fdca26"
             ],
             [
              1,
              "#f0f921"
             ]
            ],
            "type": "histogram2d"
           }
          ],
          "histogram2dcontour": [
           {
            "colorbar": {
             "outlinewidth": 0,
             "ticks": ""
            },
            "colorscale": [
             [
              0,
              "#0d0887"
             ],
             [
              0.1111111111111111,
              "#46039f"
             ],
             [
              0.2222222222222222,
              "#7201a8"
             ],
             [
              0.3333333333333333,
              "#9c179e"
             ],
             [
              0.4444444444444444,
              "#bd3786"
             ],
             [
              0.5555555555555556,
              "#d8576b"
             ],
             [
              0.6666666666666666,
              "#ed7953"
             ],
             [
              0.7777777777777778,
              "#fb9f3a"
             ],
             [
              0.8888888888888888,
              "#fdca26"
             ],
             [
              1,
              "#f0f921"
             ]
            ],
            "type": "histogram2dcontour"
           }
          ],
          "mesh3d": [
           {
            "colorbar": {
             "outlinewidth": 0,
             "ticks": ""
            },
            "type": "mesh3d"
           }
          ],
          "parcoords": [
           {
            "line": {
             "colorbar": {
              "outlinewidth": 0,
              "ticks": ""
             }
            },
            "type": "parcoords"
           }
          ],
          "pie": [
           {
            "automargin": true,
            "type": "pie"
           }
          ],
          "scatter": [
           {
            "marker": {
             "colorbar": {
              "outlinewidth": 0,
              "ticks": ""
             }
            },
            "type": "scatter"
           }
          ],
          "scatter3d": [
           {
            "line": {
             "colorbar": {
              "outlinewidth": 0,
              "ticks": ""
             }
            },
            "marker": {
             "colorbar": {
              "outlinewidth": 0,
              "ticks": ""
             }
            },
            "type": "scatter3d"
           }
          ],
          "scattercarpet": [
           {
            "marker": {
             "colorbar": {
              "outlinewidth": 0,
              "ticks": ""
             }
            },
            "type": "scattercarpet"
           }
          ],
          "scattergeo": [
           {
            "marker": {
             "colorbar": {
              "outlinewidth": 0,
              "ticks": ""
             }
            },
            "type": "scattergeo"
           }
          ],
          "scattergl": [
           {
            "marker": {
             "colorbar": {
              "outlinewidth": 0,
              "ticks": ""
             }
            },
            "type": "scattergl"
           }
          ],
          "scattermapbox": [
           {
            "marker": {
             "colorbar": {
              "outlinewidth": 0,
              "ticks": ""
             }
            },
            "type": "scattermapbox"
           }
          ],
          "scatterpolar": [
           {
            "marker": {
             "colorbar": {
              "outlinewidth": 0,
              "ticks": ""
             }
            },
            "type": "scatterpolar"
           }
          ],
          "scatterpolargl": [
           {
            "marker": {
             "colorbar": {
              "outlinewidth": 0,
              "ticks": ""
             }
            },
            "type": "scatterpolargl"
           }
          ],
          "scatterternary": [
           {
            "marker": {
             "colorbar": {
              "outlinewidth": 0,
              "ticks": ""
             }
            },
            "type": "scatterternary"
           }
          ],
          "surface": [
           {
            "colorbar": {
             "outlinewidth": 0,
             "ticks": ""
            },
            "colorscale": [
             [
              0,
              "#0d0887"
             ],
             [
              0.1111111111111111,
              "#46039f"
             ],
             [
              0.2222222222222222,
              "#7201a8"
             ],
             [
              0.3333333333333333,
              "#9c179e"
             ],
             [
              0.4444444444444444,
              "#bd3786"
             ],
             [
              0.5555555555555556,
              "#d8576b"
             ],
             [
              0.6666666666666666,
              "#ed7953"
             ],
             [
              0.7777777777777778,
              "#fb9f3a"
             ],
             [
              0.8888888888888888,
              "#fdca26"
             ],
             [
              1,
              "#f0f921"
             ]
            ],
            "type": "surface"
           }
          ],
          "table": [
           {
            "cells": {
             "fill": {
              "color": "#EBF0F8"
             },
             "line": {
              "color": "white"
             }
            },
            "header": {
             "fill": {
              "color": "#C8D4E3"
             },
             "line": {
              "color": "white"
             }
            },
            "type": "table"
           }
          ]
         },
         "layout": {
          "annotationdefaults": {
           "arrowcolor": "#2a3f5f",
           "arrowhead": 0,
           "arrowwidth": 1
          },
          "coloraxis": {
           "colorbar": {
            "outlinewidth": 0,
            "ticks": ""
           }
          },
          "colorscale": {
           "diverging": [
            [
             0,
             "#8e0152"
            ],
            [
             0.1,
             "#c51b7d"
            ],
            [
             0.2,
             "#de77ae"
            ],
            [
             0.3,
             "#f1b6da"
            ],
            [
             0.4,
             "#fde0ef"
            ],
            [
             0.5,
             "#f7f7f7"
            ],
            [
             0.6,
             "#e6f5d0"
            ],
            [
             0.7,
             "#b8e186"
            ],
            [
             0.8,
             "#7fbc41"
            ],
            [
             0.9,
             "#4d9221"
            ],
            [
             1,
             "#276419"
            ]
           ],
           "sequential": [
            [
             0,
             "#0d0887"
            ],
            [
             0.1111111111111111,
             "#46039f"
            ],
            [
             0.2222222222222222,
             "#7201a8"
            ],
            [
             0.3333333333333333,
             "#9c179e"
            ],
            [
             0.4444444444444444,
             "#bd3786"
            ],
            [
             0.5555555555555556,
             "#d8576b"
            ],
            [
             0.6666666666666666,
             "#ed7953"
            ],
            [
             0.7777777777777778,
             "#fb9f3a"
            ],
            [
             0.8888888888888888,
             "#fdca26"
            ],
            [
             1,
             "#f0f921"
            ]
           ],
           "sequentialminus": [
            [
             0,
             "#0d0887"
            ],
            [
             0.1111111111111111,
             "#46039f"
            ],
            [
             0.2222222222222222,
             "#7201a8"
            ],
            [
             0.3333333333333333,
             "#9c179e"
            ],
            [
             0.4444444444444444,
             "#bd3786"
            ],
            [
             0.5555555555555556,
             "#d8576b"
            ],
            [
             0.6666666666666666,
             "#ed7953"
            ],
            [
             0.7777777777777778,
             "#fb9f3a"
            ],
            [
             0.8888888888888888,
             "#fdca26"
            ],
            [
             1,
             "#f0f921"
            ]
           ]
          },
          "colorway": [
           "#636efa",
           "#EF553B",
           "#00cc96",
           "#ab63fa",
           "#FFA15A",
           "#19d3f3",
           "#FF6692",
           "#B6E880",
           "#FF97FF",
           "#FECB52"
          ],
          "font": {
           "color": "#2a3f5f"
          },
          "geo": {
           "bgcolor": "white",
           "lakecolor": "white",
           "landcolor": "#E5ECF6",
           "showlakes": true,
           "showland": true,
           "subunitcolor": "white"
          },
          "hoverlabel": {
           "align": "left"
          },
          "hovermode": "closest",
          "mapbox": {
           "style": "light"
          },
          "paper_bgcolor": "white",
          "plot_bgcolor": "#E5ECF6",
          "polar": {
           "angularaxis": {
            "gridcolor": "white",
            "linecolor": "white",
            "ticks": ""
           },
           "bgcolor": "#E5ECF6",
           "radialaxis": {
            "gridcolor": "white",
            "linecolor": "white",
            "ticks": ""
           }
          },
          "scene": {
           "xaxis": {
            "backgroundcolor": "#E5ECF6",
            "gridcolor": "white",
            "gridwidth": 2,
            "linecolor": "white",
            "showbackground": true,
            "ticks": "",
            "zerolinecolor": "white"
           },
           "yaxis": {
            "backgroundcolor": "#E5ECF6",
            "gridcolor": "white",
            "gridwidth": 2,
            "linecolor": "white",
            "showbackground": true,
            "ticks": "",
            "zerolinecolor": "white"
           },
           "zaxis": {
            "backgroundcolor": "#E5ECF6",
            "gridcolor": "white",
            "gridwidth": 2,
            "linecolor": "white",
            "showbackground": true,
            "ticks": "",
            "zerolinecolor": "white"
           }
          },
          "shapedefaults": {
           "line": {
            "color": "#2a3f5f"
           }
          },
          "ternary": {
           "aaxis": {
            "gridcolor": "white",
            "linecolor": "white",
            "ticks": ""
           },
           "baxis": {
            "gridcolor": "white",
            "linecolor": "white",
            "ticks": ""
           },
           "bgcolor": "#E5ECF6",
           "caxis": {
            "gridcolor": "white",
            "linecolor": "white",
            "ticks": ""
           }
          },
          "title": {
           "x": 0.05
          },
          "xaxis": {
           "automargin": true,
           "gridcolor": "white",
           "linecolor": "white",
           "ticks": "",
           "title": {
            "standoff": 15
           },
           "zerolinecolor": "white",
           "zerolinewidth": 2
          },
          "yaxis": {
           "automargin": true,
           "gridcolor": "white",
           "linecolor": "white",
           "ticks": "",
           "title": {
            "standoff": 15
           },
           "zerolinecolor": "white",
           "zerolinewidth": 2
          }
         }
        },
        "title": {
         "text": "Top 10 Job Category"
        }
       }
      },
      "text/html": [
       "<div>\n",
       "        \n",
       "        \n",
       "            <div id=\"ab459e47-af45-4d1f-9ed9-9e3c9d1d2b59\" class=\"plotly-graph-div\" style=\"height:525px; width:100%;\"></div>\n",
       "            <script type=\"text/javascript\">\n",
       "                require([\"plotly\"], function(Plotly) {\n",
       "                    window.PLOTLYENV=window.PLOTLYENV || {};\n",
       "                    \n",
       "                if (document.getElementById(\"ab459e47-af45-4d1f-9ed9-9e3c9d1d2b59\")) {\n",
       "                    Plotly.newPlot(\n",
       "                        'ab459e47-af45-4d1f-9ed9-9e3c9d1d2b59',\n",
       "                        [{\"domain\": {\"x\": [0.0, 1.0], \"y\": [0.0, 1.0]}, \"hole\": 0.3, \"hovertemplate\": \"Job Category=%{label}<br>Counts=%{value}<extra></extra>\", \"labels\": [\"Sales - Financial Services\", \"Retail Sales\", \"Banking/Financial\\u00a0>\\u00a0Financial Planning/Wealth Management\", \"Sales - Corporate\", \"Marketing/Business Dev\", \"Customer Service\", \"IT - Software\\u00a0>\\u00a0Software Engineer/Programmer\", \"Clerical/Administrative\", \"Banking/Financial\", \"Sales - Eng/Tech/IT\"], \"legendgroup\": \"\", \"name\": \"\", \"showlegend\": true, \"type\": \"pie\", \"values\": [19, 11, 9, 8, 8, 7, 5, 5, 4, 3]}],\n",
       "                        {\"legend\": {\"tracegroupgap\": 0}, \"piecolorway\": [\"rgb(17, 36, 20)\", \"rgb(23, 55, 35)\", \"rgb(25, 75, 49)\", \"rgb(23, 95, 61)\", \"rgb(13, 117, 71)\", \"rgb(7, 138, 78)\", \"rgb(37, 157, 81)\", \"rgb(85, 174, 91)\", \"rgb(124, 191, 115)\", \"rgb(156, 209, 143)\", \"rgb(186, 228, 174)\", \"rgb(214, 249, 207)\"], \"template\": {\"data\": {\"bar\": [{\"error_x\": {\"color\": \"#2a3f5f\"}, \"error_y\": {\"color\": \"#2a3f5f\"}, \"marker\": {\"line\": {\"color\": \"#E5ECF6\", \"width\": 0.5}}, \"type\": \"bar\"}], \"barpolar\": [{\"marker\": {\"line\": {\"color\": \"#E5ECF6\", \"width\": 0.5}}, \"type\": \"barpolar\"}], \"carpet\": [{\"aaxis\": {\"endlinecolor\": \"#2a3f5f\", \"gridcolor\": \"white\", \"linecolor\": \"white\", \"minorgridcolor\": \"white\", \"startlinecolor\": \"#2a3f5f\"}, \"baxis\": {\"endlinecolor\": \"#2a3f5f\", \"gridcolor\": \"white\", \"linecolor\": \"white\", \"minorgridcolor\": \"white\", \"startlinecolor\": \"#2a3f5f\"}, \"type\": \"carpet\"}], \"choropleth\": [{\"colorbar\": {\"outlinewidth\": 0, \"ticks\": \"\"}, \"type\": \"choropleth\"}], \"contour\": [{\"colorbar\": {\"outlinewidth\": 0, \"ticks\": \"\"}, \"colorscale\": [[0.0, \"#0d0887\"], [0.1111111111111111, \"#46039f\"], [0.2222222222222222, \"#7201a8\"], [0.3333333333333333, \"#9c179e\"], [0.4444444444444444, \"#bd3786\"], [0.5555555555555556, \"#d8576b\"], [0.6666666666666666, \"#ed7953\"], [0.7777777777777778, \"#fb9f3a\"], [0.8888888888888888, \"#fdca26\"], [1.0, \"#f0f921\"]], \"type\": \"contour\"}], \"contourcarpet\": [{\"colorbar\": {\"outlinewidth\": 0, \"ticks\": \"\"}, \"type\": \"contourcarpet\"}], \"heatmap\": [{\"colorbar\": {\"outlinewidth\": 0, \"ticks\": \"\"}, \"colorscale\": [[0.0, \"#0d0887\"], [0.1111111111111111, \"#46039f\"], [0.2222222222222222, \"#7201a8\"], [0.3333333333333333, \"#9c179e\"], [0.4444444444444444, \"#bd3786\"], [0.5555555555555556, \"#d8576b\"], [0.6666666666666666, \"#ed7953\"], [0.7777777777777778, \"#fb9f3a\"], [0.8888888888888888, \"#fdca26\"], [1.0, \"#f0f921\"]], \"type\": \"heatmap\"}], \"heatmapgl\": [{\"colorbar\": {\"outlinewidth\": 0, \"ticks\": \"\"}, \"colorscale\": [[0.0, \"#0d0887\"], [0.1111111111111111, \"#46039f\"], [0.2222222222222222, \"#7201a8\"], [0.3333333333333333, \"#9c179e\"], [0.4444444444444444, \"#bd3786\"], [0.5555555555555556, \"#d8576b\"], [0.6666666666666666, \"#ed7953\"], [0.7777777777777778, \"#fb9f3a\"], [0.8888888888888888, \"#fdca26\"], [1.0, \"#f0f921\"]], \"type\": \"heatmapgl\"}], \"histogram\": [{\"marker\": {\"colorbar\": {\"outlinewidth\": 0, \"ticks\": \"\"}}, \"type\": \"histogram\"}], \"histogram2d\": [{\"colorbar\": {\"outlinewidth\": 0, \"ticks\": \"\"}, \"colorscale\": [[0.0, \"#0d0887\"], [0.1111111111111111, \"#46039f\"], [0.2222222222222222, \"#7201a8\"], [0.3333333333333333, \"#9c179e\"], [0.4444444444444444, \"#bd3786\"], [0.5555555555555556, \"#d8576b\"], [0.6666666666666666, \"#ed7953\"], [0.7777777777777778, \"#fb9f3a\"], [0.8888888888888888, \"#fdca26\"], [1.0, \"#f0f921\"]], \"type\": \"histogram2d\"}], \"histogram2dcontour\": [{\"colorbar\": {\"outlinewidth\": 0, \"ticks\": \"\"}, \"colorscale\": [[0.0, \"#0d0887\"], [0.1111111111111111, \"#46039f\"], [0.2222222222222222, \"#7201a8\"], [0.3333333333333333, \"#9c179e\"], [0.4444444444444444, \"#bd3786\"], [0.5555555555555556, \"#d8576b\"], [0.6666666666666666, \"#ed7953\"], [0.7777777777777778, \"#fb9f3a\"], [0.8888888888888888, \"#fdca26\"], [1.0, \"#f0f921\"]], \"type\": \"histogram2dcontour\"}], \"mesh3d\": [{\"colorbar\": {\"outlinewidth\": 0, \"ticks\": \"\"}, \"type\": \"mesh3d\"}], \"parcoords\": [{\"line\": {\"colorbar\": {\"outlinewidth\": 0, \"ticks\": \"\"}}, \"type\": \"parcoords\"}], \"pie\": [{\"automargin\": true, \"type\": \"pie\"}], \"scatter\": [{\"marker\": {\"colorbar\": {\"outlinewidth\": 0, \"ticks\": \"\"}}, \"type\": \"scatter\"}], \"scatter3d\": [{\"line\": {\"colorbar\": {\"outlinewidth\": 0, \"ticks\": \"\"}}, \"marker\": {\"colorbar\": {\"outlinewidth\": 0, \"ticks\": \"\"}}, \"type\": \"scatter3d\"}], \"scattercarpet\": [{\"marker\": {\"colorbar\": {\"outlinewidth\": 0, \"ticks\": \"\"}}, \"type\": \"scattercarpet\"}], \"scattergeo\": [{\"marker\": {\"colorbar\": {\"outlinewidth\": 0, \"ticks\": \"\"}}, \"type\": \"scattergeo\"}], \"scattergl\": [{\"marker\": {\"colorbar\": {\"outlinewidth\": 0, \"ticks\": \"\"}}, \"type\": \"scattergl\"}], \"scattermapbox\": [{\"marker\": {\"colorbar\": {\"outlinewidth\": 0, \"ticks\": \"\"}}, \"type\": \"scattermapbox\"}], \"scatterpolar\": [{\"marker\": {\"colorbar\": {\"outlinewidth\": 0, \"ticks\": \"\"}}, \"type\": \"scatterpolar\"}], \"scatterpolargl\": [{\"marker\": {\"colorbar\": {\"outlinewidth\": 0, \"ticks\": \"\"}}, \"type\": \"scatterpolargl\"}], \"scatterternary\": [{\"marker\": {\"colorbar\": {\"outlinewidth\": 0, \"ticks\": \"\"}}, \"type\": \"scatterternary\"}], \"surface\": [{\"colorbar\": {\"outlinewidth\": 0, \"ticks\": \"\"}, \"colorscale\": [[0.0, \"#0d0887\"], [0.1111111111111111, \"#46039f\"], [0.2222222222222222, \"#7201a8\"], [0.3333333333333333, \"#9c179e\"], [0.4444444444444444, \"#bd3786\"], [0.5555555555555556, \"#d8576b\"], [0.6666666666666666, \"#ed7953\"], [0.7777777777777778, \"#fb9f3a\"], [0.8888888888888888, \"#fdca26\"], [1.0, \"#f0f921\"]], \"type\": \"surface\"}], \"table\": [{\"cells\": {\"fill\": {\"color\": \"#EBF0F8\"}, \"line\": {\"color\": \"white\"}}, \"header\": {\"fill\": {\"color\": \"#C8D4E3\"}, \"line\": {\"color\": \"white\"}}, \"type\": \"table\"}]}, \"layout\": {\"annotationdefaults\": {\"arrowcolor\": \"#2a3f5f\", \"arrowhead\": 0, \"arrowwidth\": 1}, \"coloraxis\": {\"colorbar\": {\"outlinewidth\": 0, \"ticks\": \"\"}}, \"colorscale\": {\"diverging\": [[0, \"#8e0152\"], [0.1, \"#c51b7d\"], [0.2, \"#de77ae\"], [0.3, \"#f1b6da\"], [0.4, \"#fde0ef\"], [0.5, \"#f7f7f7\"], [0.6, \"#e6f5d0\"], [0.7, \"#b8e186\"], [0.8, \"#7fbc41\"], [0.9, \"#4d9221\"], [1, \"#276419\"]], \"sequential\": [[0.0, \"#0d0887\"], [0.1111111111111111, \"#46039f\"], [0.2222222222222222, \"#7201a8\"], [0.3333333333333333, \"#9c179e\"], [0.4444444444444444, \"#bd3786\"], [0.5555555555555556, \"#d8576b\"], [0.6666666666666666, \"#ed7953\"], [0.7777777777777778, \"#fb9f3a\"], [0.8888888888888888, \"#fdca26\"], [1.0, \"#f0f921\"]], \"sequentialminus\": [[0.0, \"#0d0887\"], [0.1111111111111111, \"#46039f\"], [0.2222222222222222, \"#7201a8\"], [0.3333333333333333, \"#9c179e\"], [0.4444444444444444, \"#bd3786\"], [0.5555555555555556, \"#d8576b\"], [0.6666666666666666, \"#ed7953\"], [0.7777777777777778, \"#fb9f3a\"], [0.8888888888888888, \"#fdca26\"], [1.0, \"#f0f921\"]]}, \"colorway\": [\"#636efa\", \"#EF553B\", \"#00cc96\", \"#ab63fa\", \"#FFA15A\", \"#19d3f3\", \"#FF6692\", \"#B6E880\", \"#FF97FF\", \"#FECB52\"], \"font\": {\"color\": \"#2a3f5f\"}, \"geo\": {\"bgcolor\": \"white\", \"lakecolor\": \"white\", \"landcolor\": \"#E5ECF6\", \"showlakes\": true, \"showland\": true, \"subunitcolor\": \"white\"}, \"hoverlabel\": {\"align\": \"left\"}, \"hovermode\": \"closest\", \"mapbox\": {\"style\": \"light\"}, \"paper_bgcolor\": \"white\", \"plot_bgcolor\": \"#E5ECF6\", \"polar\": {\"angularaxis\": {\"gridcolor\": \"white\", \"linecolor\": \"white\", \"ticks\": \"\"}, \"bgcolor\": \"#E5ECF6\", \"radialaxis\": {\"gridcolor\": \"white\", \"linecolor\": \"white\", \"ticks\": \"\"}}, \"scene\": {\"xaxis\": {\"backgroundcolor\": \"#E5ECF6\", \"gridcolor\": \"white\", \"gridwidth\": 2, \"linecolor\": \"white\", \"showbackground\": true, \"ticks\": \"\", \"zerolinecolor\": \"white\"}, \"yaxis\": {\"backgroundcolor\": \"#E5ECF6\", \"gridcolor\": \"white\", \"gridwidth\": 2, \"linecolor\": \"white\", \"showbackground\": true, \"ticks\": \"\", \"zerolinecolor\": \"white\"}, \"zaxis\": {\"backgroundcolor\": \"#E5ECF6\", \"gridcolor\": \"white\", \"gridwidth\": 2, \"linecolor\": \"white\", \"showbackground\": true, \"ticks\": \"\", \"zerolinecolor\": \"white\"}}, \"shapedefaults\": {\"line\": {\"color\": \"#2a3f5f\"}}, \"ternary\": {\"aaxis\": {\"gridcolor\": \"white\", \"linecolor\": \"white\", \"ticks\": \"\"}, \"baxis\": {\"gridcolor\": \"white\", \"linecolor\": \"white\", \"ticks\": \"\"}, \"bgcolor\": \"#E5ECF6\", \"caxis\": {\"gridcolor\": \"white\", \"linecolor\": \"white\", \"ticks\": \"\"}}, \"title\": {\"x\": 0.05}, \"xaxis\": {\"automargin\": true, \"gridcolor\": \"white\", \"linecolor\": \"white\", \"ticks\": \"\", \"title\": {\"standoff\": 15}, \"zerolinecolor\": \"white\", \"zerolinewidth\": 2}, \"yaxis\": {\"automargin\": true, \"gridcolor\": \"white\", \"linecolor\": \"white\", \"ticks\": \"\", \"title\": {\"standoff\": 15}, \"zerolinecolor\": \"white\", \"zerolinewidth\": 2}}}, \"title\": {\"text\": \"Top 10 Job Category\"}},\n",
       "                        {\"responsive\": true}\n",
       "                    ).then(function(){\n",
       "                            \n",
       "var gd = document.getElementById('ab459e47-af45-4d1f-9ed9-9e3c9d1d2b59');\n",
       "var x = new MutationObserver(function (mutations, observer) {{\n",
       "        var display = window.getComputedStyle(gd).display;\n",
       "        if (!display || display === 'none') {{\n",
       "            console.log([gd, 'removed!']);\n",
       "            Plotly.purge(gd);\n",
       "            observer.disconnect();\n",
       "        }}\n",
       "}});\n",
       "\n",
       "// Listen for the removal of the full notebook cells\n",
       "var notebookContainer = gd.closest('#notebook-container');\n",
       "if (notebookContainer) {{\n",
       "    x.observe(notebookContainer, {childList: true});\n",
       "}}\n",
       "\n",
       "// Listen for the clearing of the current output cell\n",
       "var outputEl = gd.closest('.output');\n",
       "if (outputEl) {{\n",
       "    x.observe(outputEl, {childList: true});\n",
       "}}\n",
       "\n",
       "                        })\n",
       "                };\n",
       "                });\n",
       "            </script>\n",
       "        </div>"
      ]
     },
     "metadata": {},
     "output_type": "display_data"
    }
   ],
   "source": [
    "#plot pie chart for Job Category\n",
    "\n",
    "a = Count_Category['Job Category']\n",
    "b = Count_Category['Counts']\n",
    "\n",
    "fig = px.pie(Count_Category, values= b, names=a, color_discrete_sequence=px.colors.sequential.algae[::-1], hole= 0.3,title='Top 10 Job Category')\n",
    "fig.show()\n"
   ]
  },
  {
   "cell_type": "code",
   "execution_count": 19,
   "metadata": {},
   "outputs": [
    {
     "data": {
      "text/html": [
       "<style  type=\"text/css\" >\n",
       "    #T_ceb0a15c_89df_11ea_92ef_c8f7506da589row0_col1 {\n",
       "            background-color:  #08306b;\n",
       "            color:  #f1f1f1;\n",
       "        }    #T_ceb0a15c_89df_11ea_92ef_c8f7506da589row1_col1 {\n",
       "            background-color:  #85bcdc;\n",
       "            color:  #000000;\n",
       "        }    #T_ceb0a15c_89df_11ea_92ef_c8f7506da589row2_col1 {\n",
       "            background-color:  #a6cee4;\n",
       "            color:  #000000;\n",
       "        }    #T_ceb0a15c_89df_11ea_92ef_c8f7506da589row3_col1 {\n",
       "            background-color:  #cddff1;\n",
       "            color:  #000000;\n",
       "        }    #T_ceb0a15c_89df_11ea_92ef_c8f7506da589row4_col1 {\n",
       "            background-color:  #d5e5f4;\n",
       "            color:  #000000;\n",
       "        }    #T_ceb0a15c_89df_11ea_92ef_c8f7506da589row5_col1 {\n",
       "            background-color:  #ddeaf7;\n",
       "            color:  #000000;\n",
       "        }    #T_ceb0a15c_89df_11ea_92ef_c8f7506da589row6_col1 {\n",
       "            background-color:  #ddeaf7;\n",
       "            color:  #000000;\n",
       "        }    #T_ceb0a15c_89df_11ea_92ef_c8f7506da589row7_col1 {\n",
       "            background-color:  #e6f0f9;\n",
       "            color:  #000000;\n",
       "        }    #T_ceb0a15c_89df_11ea_92ef_c8f7506da589row8_col1 {\n",
       "            background-color:  #eef5fc;\n",
       "            color:  #000000;\n",
       "        }    #T_ceb0a15c_89df_11ea_92ef_c8f7506da589row9_col1 {\n",
       "            background-color:  #eef5fc;\n",
       "            color:  #000000;\n",
       "        }    #T_ceb0a15c_89df_11ea_92ef_c8f7506da589row10_col1 {\n",
       "            background-color:  #f7fbff;\n",
       "            color:  #000000;\n",
       "        }</style><table id=\"T_ceb0a15c_89df_11ea_92ef_c8f7506da589\" ><thead>    <tr>        <th class=\"blank level0\" ></th>        <th class=\"col_heading level0 col0\" >Industry</th>        <th class=\"col_heading level0 col1\" >Counts</th>    </tr></thead><tbody>\n",
       "                <tr>\n",
       "                        <th id=\"T_ceb0a15c_89df_11ea_92ef_c8f7506da589level0_row0\" class=\"row_heading level0 row0\" >0</th>\n",
       "                        <td id=\"T_ceb0a15c_89df_11ea_92ef_c8f7506da589row0_col0\" class=\"data row0 col0\" > Banking / Finance</td>\n",
       "                        <td id=\"T_ceb0a15c_89df_11ea_92ef_c8f7506da589row0_col1\" class=\"data row0 col1\" >26</td>\n",
       "            </tr>\n",
       "            <tr>\n",
       "                        <th id=\"T_ceb0a15c_89df_11ea_92ef_c8f7506da589level0_row1\" class=\"row_heading level0 row1\" >1</th>\n",
       "                        <td id=\"T_ceb0a15c_89df_11ea_92ef_c8f7506da589row1_col0\" class=\"data row1 col0\" > HR Mgmt / Consulting</td>\n",
       "                        <td id=\"T_ceb0a15c_89df_11ea_92ef_c8f7506da589row1_col1\" class=\"data row1 col1\" >13</td>\n",
       "            </tr>\n",
       "            <tr>\n",
       "                        <th id=\"T_ceb0a15c_89df_11ea_92ef_c8f7506da589level0_row2\" class=\"row_heading level0 row2\" >2</th>\n",
       "                        <td id=\"T_ceb0a15c_89df_11ea_92ef_c8f7506da589row2_col0\" class=\"data row2 col0\" > Manufacturing / Production</td>\n",
       "                        <td id=\"T_ceb0a15c_89df_11ea_92ef_c8f7506da589row2_col1\" class=\"data row2 col1\" >11</td>\n",
       "            </tr>\n",
       "            <tr>\n",
       "                        <th id=\"T_ceb0a15c_89df_11ea_92ef_c8f7506da589level0_row3\" class=\"row_heading level0 row3\" >3</th>\n",
       "                        <td id=\"T_ceb0a15c_89df_11ea_92ef_c8f7506da589row3_col0\" class=\"data row3 col0\" > Retail / Merchandise</td>\n",
       "                        <td id=\"T_ceb0a15c_89df_11ea_92ef_c8f7506da589row3_col1\" class=\"data row3 col1\" >8</td>\n",
       "            </tr>\n",
       "            <tr>\n",
       "                        <th id=\"T_ceb0a15c_89df_11ea_92ef_c8f7506da589level0_row4\" class=\"row_heading level0 row4\" >4</th>\n",
       "                        <td id=\"T_ceb0a15c_89df_11ea_92ef_c8f7506da589row4_col0\" class=\"data row4 col0\" > Call Center / BPO</td>\n",
       "                        <td id=\"T_ceb0a15c_89df_11ea_92ef_c8f7506da589row4_col1\" class=\"data row4 col1\" >7</td>\n",
       "            </tr>\n",
       "            <tr>\n",
       "                        <th id=\"T_ceb0a15c_89df_11ea_92ef_c8f7506da589level0_row5\" class=\"row_heading level0 row5\" >5</th>\n",
       "                        <td id=\"T_ceb0a15c_89df_11ea_92ef_c8f7506da589row5_col0\" class=\"data row5 col0\" > Education</td>\n",
       "                        <td id=\"T_ceb0a15c_89df_11ea_92ef_c8f7506da589row5_col1\" class=\"data row5 col1\" >6</td>\n",
       "            </tr>\n",
       "            <tr>\n",
       "                        <th id=\"T_ceb0a15c_89df_11ea_92ef_c8f7506da589level0_row6\" class=\"row_heading level0 row6\" >6</th>\n",
       "                        <td id=\"T_ceb0a15c_89df_11ea_92ef_c8f7506da589row6_col0\" class=\"data row6 col0\" > Electrical & Electronics</td>\n",
       "                        <td id=\"T_ceb0a15c_89df_11ea_92ef_c8f7506da589row6_col1\" class=\"data row6 col1\" >6</td>\n",
       "            </tr>\n",
       "            <tr>\n",
       "                        <th id=\"T_ceb0a15c_89df_11ea_92ef_c8f7506da589level0_row7\" class=\"row_heading level0 row7\" >7</th>\n",
       "                        <td id=\"T_ceb0a15c_89df_11ea_92ef_c8f7506da589row7_col0\" class=\"data row7 col0\" > Insurance</td>\n",
       "                        <td id=\"T_ceb0a15c_89df_11ea_92ef_c8f7506da589row7_col1\" class=\"data row7 col1\" >5</td>\n",
       "            </tr>\n",
       "            <tr>\n",
       "                        <th id=\"T_ceb0a15c_89df_11ea_92ef_c8f7506da589level0_row8\" class=\"row_heading level0 row8\" >8</th>\n",
       "                        <td id=\"T_ceb0a15c_89df_11ea_92ef_c8f7506da589row8_col0\" class=\"data row8 col0\" > Transportation / Logistics</td>\n",
       "                        <td id=\"T_ceb0a15c_89df_11ea_92ef_c8f7506da589row8_col1\" class=\"data row8 col1\" >4</td>\n",
       "            </tr>\n",
       "            <tr>\n",
       "                        <th id=\"T_ceb0a15c_89df_11ea_92ef_c8f7506da589level0_row9\" class=\"row_heading level0 row9\" >9</th>\n",
       "                        <td id=\"T_ceb0a15c_89df_11ea_92ef_c8f7506da589row9_col0\" class=\"data row9 col0\" > IT / Software</td>\n",
       "                        <td id=\"T_ceb0a15c_89df_11ea_92ef_c8f7506da589row9_col1\" class=\"data row9 col1\" >4</td>\n",
       "            </tr>\n",
       "            <tr>\n",
       "                        <th id=\"T_ceb0a15c_89df_11ea_92ef_c8f7506da589level0_row10\" class=\"row_heading level0 row10\" >10</th>\n",
       "                        <td id=\"T_ceb0a15c_89df_11ea_92ef_c8f7506da589row10_col0\" class=\"data row10 col0\" > Construction / Building</td>\n",
       "                        <td id=\"T_ceb0a15c_89df_11ea_92ef_c8f7506da589row10_col1\" class=\"data row10 col1\" >3</td>\n",
       "            </tr>\n",
       "    </tbody></table>"
      ],
      "text/plain": [
       "<pandas.io.formats.style.Styler at 0x1cd9222acf8>"
      ]
     },
     "execution_count": 19,
     "metadata": {},
     "output_type": "execute_result"
    }
   ],
   "source": [
    "#view top ten industry\n",
    "\n",
    "ind = df['Industry'].value_counts()[:11]\n",
    "\n",
    "Count_Industry = pd.DataFrame(ind).reset_index()\n",
    "Count_Industry.columns = ['Industry', 'Counts'] \n",
    "Count_Industry.style.background_gradient(cmap='Blues')"
   ]
  },
  {
   "cell_type": "code",
   "execution_count": 20,
   "metadata": {},
   "outputs": [
    {
     "data": {
      "application/vnd.plotly.v1+json": {
       "config": {
        "plotlyServerURL": "https://plot.ly"
       },
       "data": [
        {
         "domain": {
          "x": [
           0,
           1
          ],
          "y": [
           0,
           1
          ]
         },
         "hole": 0.3,
         "hovertemplate": "Industry=%{label}<br>Counts=%{value}<extra></extra>",
         "labels": [
          " Banking / Finance",
          " HR Mgmt / Consulting",
          " Manufacturing / Production",
          " Retail / Merchandise",
          " Call Center / BPO",
          " Education",
          " Electrical & Electronics",
          " Insurance",
          " Transportation / Logistics",
          " IT / Software",
          " Construction / Building"
         ],
         "legendgroup": "",
         "name": "",
         "showlegend": true,
         "type": "pie",
         "values": [
          26,
          13,
          11,
          8,
          7,
          6,
          6,
          5,
          4,
          4,
          3
         ]
        }
       ],
       "layout": {
        "legend": {
         "tracegroupgap": 0
        },
        "piecolorway": [
         "rgb(3, 5, 18)",
         "rgb(25, 25, 51)",
         "rgb(44, 42, 87)",
         "rgb(58, 60, 125)",
         "rgb(62, 83, 160)",
         "rgb(62, 109, 178)",
         "rgb(72, 134, 187)",
         "rgb(89, 159, 196)",
         "rgb(114, 184, 205)",
         "rgb(149, 207, 216)",
         "rgb(192, 229, 232)",
         "rgb(234, 252, 253)"
        ],
        "template": {
         "data": {
          "bar": [
           {
            "error_x": {
             "color": "#2a3f5f"
            },
            "error_y": {
             "color": "#2a3f5f"
            },
            "marker": {
             "line": {
              "color": "#E5ECF6",
              "width": 0.5
             }
            },
            "type": "bar"
           }
          ],
          "barpolar": [
           {
            "marker": {
             "line": {
              "color": "#E5ECF6",
              "width": 0.5
             }
            },
            "type": "barpolar"
           }
          ],
          "carpet": [
           {
            "aaxis": {
             "endlinecolor": "#2a3f5f",
             "gridcolor": "white",
             "linecolor": "white",
             "minorgridcolor": "white",
             "startlinecolor": "#2a3f5f"
            },
            "baxis": {
             "endlinecolor": "#2a3f5f",
             "gridcolor": "white",
             "linecolor": "white",
             "minorgridcolor": "white",
             "startlinecolor": "#2a3f5f"
            },
            "type": "carpet"
           }
          ],
          "choropleth": [
           {
            "colorbar": {
             "outlinewidth": 0,
             "ticks": ""
            },
            "type": "choropleth"
           }
          ],
          "contour": [
           {
            "colorbar": {
             "outlinewidth": 0,
             "ticks": ""
            },
            "colorscale": [
             [
              0,
              "#0d0887"
             ],
             [
              0.1111111111111111,
              "#46039f"
             ],
             [
              0.2222222222222222,
              "#7201a8"
             ],
             [
              0.3333333333333333,
              "#9c179e"
             ],
             [
              0.4444444444444444,
              "#bd3786"
             ],
             [
              0.5555555555555556,
              "#d8576b"
             ],
             [
              0.6666666666666666,
              "#ed7953"
             ],
             [
              0.7777777777777778,
              "#fb9f3a"
             ],
             [
              0.8888888888888888,
              "#fdca26"
             ],
             [
              1,
              "#f0f921"
             ]
            ],
            "type": "contour"
           }
          ],
          "contourcarpet": [
           {
            "colorbar": {
             "outlinewidth": 0,
             "ticks": ""
            },
            "type": "contourcarpet"
           }
          ],
          "heatmap": [
           {
            "colorbar": {
             "outlinewidth": 0,
             "ticks": ""
            },
            "colorscale": [
             [
              0,
              "#0d0887"
             ],
             [
              0.1111111111111111,
              "#46039f"
             ],
             [
              0.2222222222222222,
              "#7201a8"
             ],
             [
              0.3333333333333333,
              "#9c179e"
             ],
             [
              0.4444444444444444,
              "#bd3786"
             ],
             [
              0.5555555555555556,
              "#d8576b"
             ],
             [
              0.6666666666666666,
              "#ed7953"
             ],
             [
              0.7777777777777778,
              "#fb9f3a"
             ],
             [
              0.8888888888888888,
              "#fdca26"
             ],
             [
              1,
              "#f0f921"
             ]
            ],
            "type": "heatmap"
           }
          ],
          "heatmapgl": [
           {
            "colorbar": {
             "outlinewidth": 0,
             "ticks": ""
            },
            "colorscale": [
             [
              0,
              "#0d0887"
             ],
             [
              0.1111111111111111,
              "#46039f"
             ],
             [
              0.2222222222222222,
              "#7201a8"
             ],
             [
              0.3333333333333333,
              "#9c179e"
             ],
             [
              0.4444444444444444,
              "#bd3786"
             ],
             [
              0.5555555555555556,
              "#d8576b"
             ],
             [
              0.6666666666666666,
              "#ed7953"
             ],
             [
              0.7777777777777778,
              "#fb9f3a"
             ],
             [
              0.8888888888888888,
              "#fdca26"
             ],
             [
              1,
              "#f0f921"
             ]
            ],
            "type": "heatmapgl"
           }
          ],
          "histogram": [
           {
            "marker": {
             "colorbar": {
              "outlinewidth": 0,
              "ticks": ""
             }
            },
            "type": "histogram"
           }
          ],
          "histogram2d": [
           {
            "colorbar": {
             "outlinewidth": 0,
             "ticks": ""
            },
            "colorscale": [
             [
              0,
              "#0d0887"
             ],
             [
              0.1111111111111111,
              "#46039f"
             ],
             [
              0.2222222222222222,
              "#7201a8"
             ],
             [
              0.3333333333333333,
              "#9c179e"
             ],
             [
              0.4444444444444444,
              "#bd3786"
             ],
             [
              0.5555555555555556,
              "#d8576b"
             ],
             [
              0.6666666666666666,
              "#ed7953"
             ],
             [
              0.7777777777777778,
              "#fb9f3a"
             ],
             [
              0.8888888888888888,
              "#fdca26"
             ],
             [
              1,
              "#f0f921"
             ]
            ],
            "type": "histogram2d"
           }
          ],
          "histogram2dcontour": [
           {
            "colorbar": {
             "outlinewidth": 0,
             "ticks": ""
            },
            "colorscale": [
             [
              0,
              "#0d0887"
             ],
             [
              0.1111111111111111,
              "#46039f"
             ],
             [
              0.2222222222222222,
              "#7201a8"
             ],
             [
              0.3333333333333333,
              "#9c179e"
             ],
             [
              0.4444444444444444,
              "#bd3786"
             ],
             [
              0.5555555555555556,
              "#d8576b"
             ],
             [
              0.6666666666666666,
              "#ed7953"
             ],
             [
              0.7777777777777778,
              "#fb9f3a"
             ],
             [
              0.8888888888888888,
              "#fdca26"
             ],
             [
              1,
              "#f0f921"
             ]
            ],
            "type": "histogram2dcontour"
           }
          ],
          "mesh3d": [
           {
            "colorbar": {
             "outlinewidth": 0,
             "ticks": ""
            },
            "type": "mesh3d"
           }
          ],
          "parcoords": [
           {
            "line": {
             "colorbar": {
              "outlinewidth": 0,
              "ticks": ""
             }
            },
            "type": "parcoords"
           }
          ],
          "pie": [
           {
            "automargin": true,
            "type": "pie"
           }
          ],
          "scatter": [
           {
            "marker": {
             "colorbar": {
              "outlinewidth": 0,
              "ticks": ""
             }
            },
            "type": "scatter"
           }
          ],
          "scatter3d": [
           {
            "line": {
             "colorbar": {
              "outlinewidth": 0,
              "ticks": ""
             }
            },
            "marker": {
             "colorbar": {
              "outlinewidth": 0,
              "ticks": ""
             }
            },
            "type": "scatter3d"
           }
          ],
          "scattercarpet": [
           {
            "marker": {
             "colorbar": {
              "outlinewidth": 0,
              "ticks": ""
             }
            },
            "type": "scattercarpet"
           }
          ],
          "scattergeo": [
           {
            "marker": {
             "colorbar": {
              "outlinewidth": 0,
              "ticks": ""
             }
            },
            "type": "scattergeo"
           }
          ],
          "scattergl": [
           {
            "marker": {
             "colorbar": {
              "outlinewidth": 0,
              "ticks": ""
             }
            },
            "type": "scattergl"
           }
          ],
          "scattermapbox": [
           {
            "marker": {
             "colorbar": {
              "outlinewidth": 0,
              "ticks": ""
             }
            },
            "type": "scattermapbox"
           }
          ],
          "scatterpolar": [
           {
            "marker": {
             "colorbar": {
              "outlinewidth": 0,
              "ticks": ""
             }
            },
            "type": "scatterpolar"
           }
          ],
          "scatterpolargl": [
           {
            "marker": {
             "colorbar": {
              "outlinewidth": 0,
              "ticks": ""
             }
            },
            "type": "scatterpolargl"
           }
          ],
          "scatterternary": [
           {
            "marker": {
             "colorbar": {
              "outlinewidth": 0,
              "ticks": ""
             }
            },
            "type": "scatterternary"
           }
          ],
          "surface": [
           {
            "colorbar": {
             "outlinewidth": 0,
             "ticks": ""
            },
            "colorscale": [
             [
              0,
              "#0d0887"
             ],
             [
              0.1111111111111111,
              "#46039f"
             ],
             [
              0.2222222222222222,
              "#7201a8"
             ],
             [
              0.3333333333333333,
              "#9c179e"
             ],
             [
              0.4444444444444444,
              "#bd3786"
             ],
             [
              0.5555555555555556,
              "#d8576b"
             ],
             [
              0.6666666666666666,
              "#ed7953"
             ],
             [
              0.7777777777777778,
              "#fb9f3a"
             ],
             [
              0.8888888888888888,
              "#fdca26"
             ],
             [
              1,
              "#f0f921"
             ]
            ],
            "type": "surface"
           }
          ],
          "table": [
           {
            "cells": {
             "fill": {
              "color": "#EBF0F8"
             },
             "line": {
              "color": "white"
             }
            },
            "header": {
             "fill": {
              "color": "#C8D4E3"
             },
             "line": {
              "color": "white"
             }
            },
            "type": "table"
           }
          ]
         },
         "layout": {
          "annotationdefaults": {
           "arrowcolor": "#2a3f5f",
           "arrowhead": 0,
           "arrowwidth": 1
          },
          "coloraxis": {
           "colorbar": {
            "outlinewidth": 0,
            "ticks": ""
           }
          },
          "colorscale": {
           "diverging": [
            [
             0,
             "#8e0152"
            ],
            [
             0.1,
             "#c51b7d"
            ],
            [
             0.2,
             "#de77ae"
            ],
            [
             0.3,
             "#f1b6da"
            ],
            [
             0.4,
             "#fde0ef"
            ],
            [
             0.5,
             "#f7f7f7"
            ],
            [
             0.6,
             "#e6f5d0"
            ],
            [
             0.7,
             "#b8e186"
            ],
            [
             0.8,
             "#7fbc41"
            ],
            [
             0.9,
             "#4d9221"
            ],
            [
             1,
             "#276419"
            ]
           ],
           "sequential": [
            [
             0,
             "#0d0887"
            ],
            [
             0.1111111111111111,
             "#46039f"
            ],
            [
             0.2222222222222222,
             "#7201a8"
            ],
            [
             0.3333333333333333,
             "#9c179e"
            ],
            [
             0.4444444444444444,
             "#bd3786"
            ],
            [
             0.5555555555555556,
             "#d8576b"
            ],
            [
             0.6666666666666666,
             "#ed7953"
            ],
            [
             0.7777777777777778,
             "#fb9f3a"
            ],
            [
             0.8888888888888888,
             "#fdca26"
            ],
            [
             1,
             "#f0f921"
            ]
           ],
           "sequentialminus": [
            [
             0,
             "#0d0887"
            ],
            [
             0.1111111111111111,
             "#46039f"
            ],
            [
             0.2222222222222222,
             "#7201a8"
            ],
            [
             0.3333333333333333,
             "#9c179e"
            ],
            [
             0.4444444444444444,
             "#bd3786"
            ],
            [
             0.5555555555555556,
             "#d8576b"
            ],
            [
             0.6666666666666666,
             "#ed7953"
            ],
            [
             0.7777777777777778,
             "#fb9f3a"
            ],
            [
             0.8888888888888888,
             "#fdca26"
            ],
            [
             1,
             "#f0f921"
            ]
           ]
          },
          "colorway": [
           "#636efa",
           "#EF553B",
           "#00cc96",
           "#ab63fa",
           "#FFA15A",
           "#19d3f3",
           "#FF6692",
           "#B6E880",
           "#FF97FF",
           "#FECB52"
          ],
          "font": {
           "color": "#2a3f5f"
          },
          "geo": {
           "bgcolor": "white",
           "lakecolor": "white",
           "landcolor": "#E5ECF6",
           "showlakes": true,
           "showland": true,
           "subunitcolor": "white"
          },
          "hoverlabel": {
           "align": "left"
          },
          "hovermode": "closest",
          "mapbox": {
           "style": "light"
          },
          "paper_bgcolor": "white",
          "plot_bgcolor": "#E5ECF6",
          "polar": {
           "angularaxis": {
            "gridcolor": "white",
            "linecolor": "white",
            "ticks": ""
           },
           "bgcolor": "#E5ECF6",
           "radialaxis": {
            "gridcolor": "white",
            "linecolor": "white",
            "ticks": ""
           }
          },
          "scene": {
           "xaxis": {
            "backgroundcolor": "#E5ECF6",
            "gridcolor": "white",
            "gridwidth": 2,
            "linecolor": "white",
            "showbackground": true,
            "ticks": "",
            "zerolinecolor": "white"
           },
           "yaxis": {
            "backgroundcolor": "#E5ECF6",
            "gridcolor": "white",
            "gridwidth": 2,
            "linecolor": "white",
            "showbackground": true,
            "ticks": "",
            "zerolinecolor": "white"
           },
           "zaxis": {
            "backgroundcolor": "#E5ECF6",
            "gridcolor": "white",
            "gridwidth": 2,
            "linecolor": "white",
            "showbackground": true,
            "ticks": "",
            "zerolinecolor": "white"
           }
          },
          "shapedefaults": {
           "line": {
            "color": "#2a3f5f"
           }
          },
          "ternary": {
           "aaxis": {
            "gridcolor": "white",
            "linecolor": "white",
            "ticks": ""
           },
           "baxis": {
            "gridcolor": "white",
            "linecolor": "white",
            "ticks": ""
           },
           "bgcolor": "#E5ECF6",
           "caxis": {
            "gridcolor": "white",
            "linecolor": "white",
            "ticks": ""
           }
          },
          "title": {
           "x": 0.05
          },
          "xaxis": {
           "automargin": true,
           "gridcolor": "white",
           "linecolor": "white",
           "ticks": "",
           "title": {
            "standoff": 15
           },
           "zerolinecolor": "white",
           "zerolinewidth": 2
          },
          "yaxis": {
           "automargin": true,
           "gridcolor": "white",
           "linecolor": "white",
           "ticks": "",
           "title": {
            "standoff": 15
           },
           "zerolinecolor": "white",
           "zerolinewidth": 2
          }
         }
        },
        "title": {
         "text": "Top 10 Industry"
        }
       }
      },
      "text/html": [
       "<div>\n",
       "        \n",
       "        \n",
       "            <div id=\"a345f7e6-61cf-404c-aae2-78f61e7b5379\" class=\"plotly-graph-div\" style=\"height:525px; width:100%;\"></div>\n",
       "            <script type=\"text/javascript\">\n",
       "                require([\"plotly\"], function(Plotly) {\n",
       "                    window.PLOTLYENV=window.PLOTLYENV || {};\n",
       "                    \n",
       "                if (document.getElementById(\"a345f7e6-61cf-404c-aae2-78f61e7b5379\")) {\n",
       "                    Plotly.newPlot(\n",
       "                        'a345f7e6-61cf-404c-aae2-78f61e7b5379',\n",
       "                        [{\"domain\": {\"x\": [0.0, 1.0], \"y\": [0.0, 1.0]}, \"hole\": 0.3, \"hovertemplate\": \"Industry=%{label}<br>Counts=%{value}<extra></extra>\", \"labels\": [\"\\u00a0Banking / Finance\", \"\\u00a0HR Mgmt / Consulting\", \"\\u00a0Manufacturing / Production\", \"\\u00a0Retail / Merchandise\", \"\\u00a0Call Center / BPO\", \"\\u00a0Education\", \"\\u00a0Electrical & Electronics\", \"\\u00a0Insurance\", \"\\u00a0Transportation / Logistics\", \"\\u00a0IT / Software\", \"\\u00a0Construction / Building\"], \"legendgroup\": \"\", \"name\": \"\", \"showlegend\": true, \"type\": \"pie\", \"values\": [26, 13, 11, 8, 7, 6, 6, 5, 4, 4, 3]}],\n",
       "                        {\"legend\": {\"tracegroupgap\": 0}, \"piecolorway\": [\"rgb(3, 5, 18)\", \"rgb(25, 25, 51)\", \"rgb(44, 42, 87)\", \"rgb(58, 60, 125)\", \"rgb(62, 83, 160)\", \"rgb(62, 109, 178)\", \"rgb(72, 134, 187)\", \"rgb(89, 159, 196)\", \"rgb(114, 184, 205)\", \"rgb(149, 207, 216)\", \"rgb(192, 229, 232)\", \"rgb(234, 252, 253)\"], \"template\": {\"data\": {\"bar\": [{\"error_x\": {\"color\": \"#2a3f5f\"}, \"error_y\": {\"color\": \"#2a3f5f\"}, \"marker\": {\"line\": {\"color\": \"#E5ECF6\", \"width\": 0.5}}, \"type\": \"bar\"}], \"barpolar\": [{\"marker\": {\"line\": {\"color\": \"#E5ECF6\", \"width\": 0.5}}, \"type\": \"barpolar\"}], \"carpet\": [{\"aaxis\": {\"endlinecolor\": \"#2a3f5f\", \"gridcolor\": \"white\", \"linecolor\": \"white\", \"minorgridcolor\": \"white\", \"startlinecolor\": \"#2a3f5f\"}, \"baxis\": {\"endlinecolor\": \"#2a3f5f\", \"gridcolor\": \"white\", \"linecolor\": \"white\", \"minorgridcolor\": \"white\", \"startlinecolor\": \"#2a3f5f\"}, \"type\": \"carpet\"}], \"choropleth\": [{\"colorbar\": {\"outlinewidth\": 0, \"ticks\": \"\"}, \"type\": \"choropleth\"}], \"contour\": [{\"colorbar\": {\"outlinewidth\": 0, \"ticks\": \"\"}, \"colorscale\": [[0.0, \"#0d0887\"], [0.1111111111111111, \"#46039f\"], [0.2222222222222222, \"#7201a8\"], [0.3333333333333333, \"#9c179e\"], [0.4444444444444444, \"#bd3786\"], [0.5555555555555556, \"#d8576b\"], [0.6666666666666666, \"#ed7953\"], [0.7777777777777778, \"#fb9f3a\"], [0.8888888888888888, \"#fdca26\"], [1.0, \"#f0f921\"]], \"type\": \"contour\"}], \"contourcarpet\": [{\"colorbar\": {\"outlinewidth\": 0, \"ticks\": \"\"}, \"type\": \"contourcarpet\"}], \"heatmap\": [{\"colorbar\": {\"outlinewidth\": 0, \"ticks\": \"\"}, \"colorscale\": [[0.0, \"#0d0887\"], [0.1111111111111111, \"#46039f\"], [0.2222222222222222, \"#7201a8\"], [0.3333333333333333, \"#9c179e\"], [0.4444444444444444, \"#bd3786\"], [0.5555555555555556, \"#d8576b\"], [0.6666666666666666, \"#ed7953\"], [0.7777777777777778, \"#fb9f3a\"], [0.8888888888888888, \"#fdca26\"], [1.0, \"#f0f921\"]], \"type\": \"heatmap\"}], \"heatmapgl\": [{\"colorbar\": {\"outlinewidth\": 0, \"ticks\": \"\"}, \"colorscale\": [[0.0, \"#0d0887\"], [0.1111111111111111, \"#46039f\"], [0.2222222222222222, \"#7201a8\"], [0.3333333333333333, \"#9c179e\"], [0.4444444444444444, \"#bd3786\"], [0.5555555555555556, \"#d8576b\"], [0.6666666666666666, \"#ed7953\"], [0.7777777777777778, \"#fb9f3a\"], [0.8888888888888888, \"#fdca26\"], [1.0, \"#f0f921\"]], \"type\": \"heatmapgl\"}], \"histogram\": [{\"marker\": {\"colorbar\": {\"outlinewidth\": 0, \"ticks\": \"\"}}, \"type\": \"histogram\"}], \"histogram2d\": [{\"colorbar\": {\"outlinewidth\": 0, \"ticks\": \"\"}, \"colorscale\": [[0.0, \"#0d0887\"], [0.1111111111111111, \"#46039f\"], [0.2222222222222222, \"#7201a8\"], [0.3333333333333333, \"#9c179e\"], [0.4444444444444444, \"#bd3786\"], [0.5555555555555556, \"#d8576b\"], [0.6666666666666666, \"#ed7953\"], [0.7777777777777778, \"#fb9f3a\"], [0.8888888888888888, \"#fdca26\"], [1.0, \"#f0f921\"]], \"type\": \"histogram2d\"}], \"histogram2dcontour\": [{\"colorbar\": {\"outlinewidth\": 0, \"ticks\": \"\"}, \"colorscale\": [[0.0, \"#0d0887\"], [0.1111111111111111, \"#46039f\"], [0.2222222222222222, \"#7201a8\"], [0.3333333333333333, \"#9c179e\"], [0.4444444444444444, \"#bd3786\"], [0.5555555555555556, \"#d8576b\"], [0.6666666666666666, \"#ed7953\"], [0.7777777777777778, \"#fb9f3a\"], [0.8888888888888888, \"#fdca26\"], [1.0, \"#f0f921\"]], \"type\": \"histogram2dcontour\"}], \"mesh3d\": [{\"colorbar\": {\"outlinewidth\": 0, \"ticks\": \"\"}, \"type\": \"mesh3d\"}], \"parcoords\": [{\"line\": {\"colorbar\": {\"outlinewidth\": 0, \"ticks\": \"\"}}, \"type\": \"parcoords\"}], \"pie\": [{\"automargin\": true, \"type\": \"pie\"}], \"scatter\": [{\"marker\": {\"colorbar\": {\"outlinewidth\": 0, \"ticks\": \"\"}}, \"type\": \"scatter\"}], \"scatter3d\": [{\"line\": {\"colorbar\": {\"outlinewidth\": 0, \"ticks\": \"\"}}, \"marker\": {\"colorbar\": {\"outlinewidth\": 0, \"ticks\": \"\"}}, \"type\": \"scatter3d\"}], \"scattercarpet\": [{\"marker\": {\"colorbar\": {\"outlinewidth\": 0, \"ticks\": \"\"}}, \"type\": \"scattercarpet\"}], \"scattergeo\": [{\"marker\": {\"colorbar\": {\"outlinewidth\": 0, \"ticks\": \"\"}}, \"type\": \"scattergeo\"}], \"scattergl\": [{\"marker\": {\"colorbar\": {\"outlinewidth\": 0, \"ticks\": \"\"}}, \"type\": \"scattergl\"}], \"scattermapbox\": [{\"marker\": {\"colorbar\": {\"outlinewidth\": 0, \"ticks\": \"\"}}, \"type\": \"scattermapbox\"}], \"scatterpolar\": [{\"marker\": {\"colorbar\": {\"outlinewidth\": 0, \"ticks\": \"\"}}, \"type\": \"scatterpolar\"}], \"scatterpolargl\": [{\"marker\": {\"colorbar\": {\"outlinewidth\": 0, \"ticks\": \"\"}}, \"type\": \"scatterpolargl\"}], \"scatterternary\": [{\"marker\": {\"colorbar\": {\"outlinewidth\": 0, \"ticks\": \"\"}}, \"type\": \"scatterternary\"}], \"surface\": [{\"colorbar\": {\"outlinewidth\": 0, \"ticks\": \"\"}, \"colorscale\": [[0.0, \"#0d0887\"], [0.1111111111111111, \"#46039f\"], [0.2222222222222222, \"#7201a8\"], [0.3333333333333333, \"#9c179e\"], [0.4444444444444444, \"#bd3786\"], [0.5555555555555556, \"#d8576b\"], [0.6666666666666666, \"#ed7953\"], [0.7777777777777778, \"#fb9f3a\"], [0.8888888888888888, \"#fdca26\"], [1.0, \"#f0f921\"]], \"type\": \"surface\"}], \"table\": [{\"cells\": {\"fill\": {\"color\": \"#EBF0F8\"}, \"line\": {\"color\": \"white\"}}, \"header\": {\"fill\": {\"color\": \"#C8D4E3\"}, \"line\": {\"color\": \"white\"}}, \"type\": \"table\"}]}, \"layout\": {\"annotationdefaults\": {\"arrowcolor\": \"#2a3f5f\", \"arrowhead\": 0, \"arrowwidth\": 1}, \"coloraxis\": {\"colorbar\": {\"outlinewidth\": 0, \"ticks\": \"\"}}, \"colorscale\": {\"diverging\": [[0, \"#8e0152\"], [0.1, \"#c51b7d\"], [0.2, \"#de77ae\"], [0.3, \"#f1b6da\"], [0.4, \"#fde0ef\"], [0.5, \"#f7f7f7\"], [0.6, \"#e6f5d0\"], [0.7, \"#b8e186\"], [0.8, \"#7fbc41\"], [0.9, \"#4d9221\"], [1, \"#276419\"]], \"sequential\": [[0.0, \"#0d0887\"], [0.1111111111111111, \"#46039f\"], [0.2222222222222222, \"#7201a8\"], [0.3333333333333333, \"#9c179e\"], [0.4444444444444444, \"#bd3786\"], [0.5555555555555556, \"#d8576b\"], [0.6666666666666666, \"#ed7953\"], [0.7777777777777778, \"#fb9f3a\"], [0.8888888888888888, \"#fdca26\"], [1.0, \"#f0f921\"]], \"sequentialminus\": [[0.0, \"#0d0887\"], [0.1111111111111111, \"#46039f\"], [0.2222222222222222, \"#7201a8\"], [0.3333333333333333, \"#9c179e\"], [0.4444444444444444, \"#bd3786\"], [0.5555555555555556, \"#d8576b\"], [0.6666666666666666, \"#ed7953\"], [0.7777777777777778, \"#fb9f3a\"], [0.8888888888888888, \"#fdca26\"], [1.0, \"#f0f921\"]]}, \"colorway\": [\"#636efa\", \"#EF553B\", \"#00cc96\", \"#ab63fa\", \"#FFA15A\", \"#19d3f3\", \"#FF6692\", \"#B6E880\", \"#FF97FF\", \"#FECB52\"], \"font\": {\"color\": \"#2a3f5f\"}, \"geo\": {\"bgcolor\": \"white\", \"lakecolor\": \"white\", \"landcolor\": \"#E5ECF6\", \"showlakes\": true, \"showland\": true, \"subunitcolor\": \"white\"}, \"hoverlabel\": {\"align\": \"left\"}, \"hovermode\": \"closest\", \"mapbox\": {\"style\": \"light\"}, \"paper_bgcolor\": \"white\", \"plot_bgcolor\": \"#E5ECF6\", \"polar\": {\"angularaxis\": {\"gridcolor\": \"white\", \"linecolor\": \"white\", \"ticks\": \"\"}, \"bgcolor\": \"#E5ECF6\", \"radialaxis\": {\"gridcolor\": \"white\", \"linecolor\": \"white\", \"ticks\": \"\"}}, \"scene\": {\"xaxis\": {\"backgroundcolor\": \"#E5ECF6\", \"gridcolor\": \"white\", \"gridwidth\": 2, \"linecolor\": \"white\", \"showbackground\": true, \"ticks\": \"\", \"zerolinecolor\": \"white\"}, \"yaxis\": {\"backgroundcolor\": \"#E5ECF6\", \"gridcolor\": \"white\", \"gridwidth\": 2, \"linecolor\": \"white\", \"showbackground\": true, \"ticks\": \"\", \"zerolinecolor\": \"white\"}, \"zaxis\": {\"backgroundcolor\": \"#E5ECF6\", \"gridcolor\": \"white\", \"gridwidth\": 2, \"linecolor\": \"white\", \"showbackground\": true, \"ticks\": \"\", \"zerolinecolor\": \"white\"}}, \"shapedefaults\": {\"line\": {\"color\": \"#2a3f5f\"}}, \"ternary\": {\"aaxis\": {\"gridcolor\": \"white\", \"linecolor\": \"white\", \"ticks\": \"\"}, \"baxis\": {\"gridcolor\": \"white\", \"linecolor\": \"white\", \"ticks\": \"\"}, \"bgcolor\": \"#E5ECF6\", \"caxis\": {\"gridcolor\": \"white\", \"linecolor\": \"white\", \"ticks\": \"\"}}, \"title\": {\"x\": 0.05}, \"xaxis\": {\"automargin\": true, \"gridcolor\": \"white\", \"linecolor\": \"white\", \"ticks\": \"\", \"title\": {\"standoff\": 15}, \"zerolinecolor\": \"white\", \"zerolinewidth\": 2}, \"yaxis\": {\"automargin\": true, \"gridcolor\": \"white\", \"linecolor\": \"white\", \"ticks\": \"\", \"title\": {\"standoff\": 15}, \"zerolinecolor\": \"white\", \"zerolinewidth\": 2}}}, \"title\": {\"text\": \"Top 10 Industry\"}},\n",
       "                        {\"responsive\": true}\n",
       "                    ).then(function(){\n",
       "                            \n",
       "var gd = document.getElementById('a345f7e6-61cf-404c-aae2-78f61e7b5379');\n",
       "var x = new MutationObserver(function (mutations, observer) {{\n",
       "        var display = window.getComputedStyle(gd).display;\n",
       "        if (!display || display === 'none') {{\n",
       "            console.log([gd, 'removed!']);\n",
       "            Plotly.purge(gd);\n",
       "            observer.disconnect();\n",
       "        }}\n",
       "}});\n",
       "\n",
       "// Listen for the removal of the full notebook cells\n",
       "var notebookContainer = gd.closest('#notebook-container');\n",
       "if (notebookContainer) {{\n",
       "    x.observe(notebookContainer, {childList: true});\n",
       "}}\n",
       "\n",
       "// Listen for the clearing of the current output cell\n",
       "var outputEl = gd.closest('.output');\n",
       "if (outputEl) {{\n",
       "    x.observe(outputEl, {childList: true});\n",
       "}}\n",
       "\n",
       "                        })\n",
       "                };\n",
       "                });\n",
       "            </script>\n",
       "        </div>"
      ]
     },
     "metadata": {},
     "output_type": "display_data"
    }
   ],
   "source": [
    "#Plot top ten industry\n",
    "\n",
    "c = Count_Industry['Industry']\n",
    "d = Count_Industry['Counts']\n",
    "\n",
    "fig = px.pie(Count_Industry, values= d, names=c, color_discrete_sequence=px.colors.sequential.ice, hole= 0.3,title='Top 10 Industry')\n",
    "fig.show()"
   ]
  },
  {
   "cell_type": "code",
   "execution_count": 21,
   "metadata": {},
   "outputs": [
    {
     "data": {
      "text/html": [
       "<style  type=\"text/css\" >\n",
       "    #T_d1ced48c_89df_11ea_ae93_c8f7506da589row0_col1 {\n",
       "            background-color:  #49006a;\n",
       "            color:  #f1f1f1;\n",
       "        }    #T_d1ced48c_89df_11ea_ae93_c8f7506da589row1_col1 {\n",
       "            background-color:  #d93095;\n",
       "            color:  #f1f1f1;\n",
       "        }    #T_d1ced48c_89df_11ea_ae93_c8f7506da589row2_col1 {\n",
       "            background-color:  #f87ca8;\n",
       "            color:  #000000;\n",
       "        }    #T_d1ced48c_89df_11ea_ae93_c8f7506da589row3_col1 {\n",
       "            background-color:  #f87ca8;\n",
       "            color:  #000000;\n",
       "        }    #T_d1ced48c_89df_11ea_ae93_c8f7506da589row4_col1 {\n",
       "            background-color:  #fdd4d0;\n",
       "            color:  #000000;\n",
       "        }    #T_d1ced48c_89df_11ea_ae93_c8f7506da589row5_col1 {\n",
       "            background-color:  #fdd4d0;\n",
       "            color:  #000000;\n",
       "        }    #T_d1ced48c_89df_11ea_ae93_c8f7506da589row6_col1 {\n",
       "            background-color:  #fee6e3;\n",
       "            color:  #000000;\n",
       "        }    #T_d1ced48c_89df_11ea_ae93_c8f7506da589row7_col1 {\n",
       "            background-color:  #fee6e3;\n",
       "            color:  #000000;\n",
       "        }    #T_d1ced48c_89df_11ea_ae93_c8f7506da589row8_col1 {\n",
       "            background-color:  #fee6e3;\n",
       "            color:  #000000;\n",
       "        }    #T_d1ced48c_89df_11ea_ae93_c8f7506da589row9_col1 {\n",
       "            background-color:  #fff7f3;\n",
       "            color:  #000000;\n",
       "        }    #T_d1ced48c_89df_11ea_ae93_c8f7506da589row10_col1 {\n",
       "            background-color:  #fff7f3;\n",
       "            color:  #000000;\n",
       "        }</style><table id=\"T_d1ced48c_89df_11ea_ae93_c8f7506da589\" ><thead>    <tr>        <th class=\"blank level0\" ></th>        <th class=\"col_heading level0 col0\" >Minimum Salary</th>        <th class=\"col_heading level0 col1\" >Counts</th>    </tr></thead><tbody>\n",
       "                <tr>\n",
       "                        <th id=\"T_d1ced48c_89df_11ea_ae93_c8f7506da589level0_row0\" class=\"row_heading level0 row0\" >0</th>\n",
       "                        <td id=\"T_d1ced48c_89df_11ea_ae93_c8f7506da589row0_col0\" class=\"data row0 col0\" >  2500 </td>\n",
       "                        <td id=\"T_d1ced48c_89df_11ea_ae93_c8f7506da589row0_col1\" class=\"data row0 col1\" >13</td>\n",
       "            </tr>\n",
       "            <tr>\n",
       "                        <th id=\"T_d1ced48c_89df_11ea_ae93_c8f7506da589level0_row1\" class=\"row_heading level0 row1\" >1</th>\n",
       "                        <td id=\"T_d1ced48c_89df_11ea_ae93_c8f7506da589row1_col0\" class=\"data row1 col0\" >  2000 </td>\n",
       "                        <td id=\"T_d1ced48c_89df_11ea_ae93_c8f7506da589row1_col1\" class=\"data row1 col1\" >9</td>\n",
       "            </tr>\n",
       "            <tr>\n",
       "                        <th id=\"T_d1ced48c_89df_11ea_ae93_c8f7506da589level0_row2\" class=\"row_heading level0 row2\" >2</th>\n",
       "                        <td id=\"T_d1ced48c_89df_11ea_ae93_c8f7506da589row2_col0\" class=\"data row2 col0\" >  1800 </td>\n",
       "                        <td id=\"T_d1ced48c_89df_11ea_ae93_c8f7506da589row2_col1\" class=\"data row2 col1\" >7</td>\n",
       "            </tr>\n",
       "            <tr>\n",
       "                        <th id=\"T_d1ced48c_89df_11ea_ae93_c8f7506da589level0_row3\" class=\"row_heading level0 row3\" >3</th>\n",
       "                        <td id=\"T_d1ced48c_89df_11ea_ae93_c8f7506da589row3_col0\" class=\"data row3 col0\" >  3000 </td>\n",
       "                        <td id=\"T_d1ced48c_89df_11ea_ae93_c8f7506da589row3_col1\" class=\"data row3 col1\" >7</td>\n",
       "            </tr>\n",
       "            <tr>\n",
       "                        <th id=\"T_d1ced48c_89df_11ea_ae93_c8f7506da589level0_row4\" class=\"row_heading level0 row4\" >4</th>\n",
       "                        <td id=\"T_d1ced48c_89df_11ea_ae93_c8f7506da589row4_col0\" class=\"data row4 col0\" >  1500 </td>\n",
       "                        <td id=\"T_d1ced48c_89df_11ea_ae93_c8f7506da589row4_col1\" class=\"data row4 col1\" >4</td>\n",
       "            </tr>\n",
       "            <tr>\n",
       "                        <th id=\"T_d1ced48c_89df_11ea_ae93_c8f7506da589level0_row5\" class=\"row_heading level0 row5\" >5</th>\n",
       "                        <td id=\"T_d1ced48c_89df_11ea_ae93_c8f7506da589row5_col0\" class=\"data row5 col0\" >  4000 </td>\n",
       "                        <td id=\"T_d1ced48c_89df_11ea_ae93_c8f7506da589row5_col1\" class=\"data row5 col1\" >4</td>\n",
       "            </tr>\n",
       "            <tr>\n",
       "                        <th id=\"T_d1ced48c_89df_11ea_ae93_c8f7506da589level0_row6\" class=\"row_heading level0 row6\" >6</th>\n",
       "                        <td id=\"T_d1ced48c_89df_11ea_ae93_c8f7506da589row6_col0\" class=\"data row6 col0\" >  2800 </td>\n",
       "                        <td id=\"T_d1ced48c_89df_11ea_ae93_c8f7506da589row6_col1\" class=\"data row6 col1\" >3</td>\n",
       "            </tr>\n",
       "            <tr>\n",
       "                        <th id=\"T_d1ced48c_89df_11ea_ae93_c8f7506da589level0_row7\" class=\"row_heading level0 row7\" >7</th>\n",
       "                        <td id=\"T_d1ced48c_89df_11ea_ae93_c8f7506da589row7_col0\" class=\"data row7 col0\" >  2700 </td>\n",
       "                        <td id=\"T_d1ced48c_89df_11ea_ae93_c8f7506da589row7_col1\" class=\"data row7 col1\" >3</td>\n",
       "            </tr>\n",
       "            <tr>\n",
       "                        <th id=\"T_d1ced48c_89df_11ea_ae93_c8f7506da589level0_row8\" class=\"row_heading level0 row8\" >8</th>\n",
       "                        <td id=\"T_d1ced48c_89df_11ea_ae93_c8f7506da589row8_col0\" class=\"data row8 col0\" >  2400 </td>\n",
       "                        <td id=\"T_d1ced48c_89df_11ea_ae93_c8f7506da589row8_col1\" class=\"data row8 col1\" >3</td>\n",
       "            </tr>\n",
       "            <tr>\n",
       "                        <th id=\"T_d1ced48c_89df_11ea_ae93_c8f7506da589level0_row9\" class=\"row_heading level0 row9\" >9</th>\n",
       "                        <td id=\"T_d1ced48c_89df_11ea_ae93_c8f7506da589row9_col0\" class=\"data row9 col0\" >  4800 </td>\n",
       "                        <td id=\"T_d1ced48c_89df_11ea_ae93_c8f7506da589row9_col1\" class=\"data row9 col1\" >2</td>\n",
       "            </tr>\n",
       "            <tr>\n",
       "                        <th id=\"T_d1ced48c_89df_11ea_ae93_c8f7506da589level0_row10\" class=\"row_heading level0 row10\" >10</th>\n",
       "                        <td id=\"T_d1ced48c_89df_11ea_ae93_c8f7506da589row10_col0\" class=\"data row10 col0\" >  1600 </td>\n",
       "                        <td id=\"T_d1ced48c_89df_11ea_ae93_c8f7506da589row10_col1\" class=\"data row10 col1\" >2</td>\n",
       "            </tr>\n",
       "    </tbody></table>"
      ],
      "text/plain": [
       "<pandas.io.formats.style.Styler at 0x1cd92232550>"
      ]
     },
     "execution_count": 21,
     "metadata": {},
     "output_type": "execute_result"
    }
   ],
   "source": [
    "# top ten minimum salary offered\n",
    "min_s = df['Min_Salary'].value_counts()[:11]\n",
    "Count_Min = pd.DataFrame(min_s).reset_index()\n",
    "Count_Min.columns = ['Minimum Salary', 'Counts'] \n",
    "Count_Min.style.background_gradient(cmap='RdPu')"
   ]
  },
  {
   "cell_type": "code",
   "execution_count": 22,
   "metadata": {},
   "outputs": [
    {
     "data": {
      "text/html": [
       "<style  type=\"text/css\" >\n",
       "    #T_d263f26e_89df_11ea_bc11_c8f7506da589row0_col1 {\n",
       "            background-color:  #084081;\n",
       "            color:  #f1f1f1;\n",
       "        }    #T_d263f26e_89df_11ea_bc11_c8f7506da589row1_col1 {\n",
       "            background-color:  #1373b2;\n",
       "            color:  #f1f1f1;\n",
       "        }    #T_d263f26e_89df_11ea_bc11_c8f7506da589row2_col1 {\n",
       "            background-color:  #42a6cc;\n",
       "            color:  #000000;\n",
       "        }    #T_d263f26e_89df_11ea_bc11_c8f7506da589row3_col1 {\n",
       "            background-color:  #7accc4;\n",
       "            color:  #000000;\n",
       "        }    #T_d263f26e_89df_11ea_bc11_c8f7506da589row4_col1 {\n",
       "            background-color:  #b4e2ba;\n",
       "            color:  #000000;\n",
       "        }    #T_d263f26e_89df_11ea_bc11_c8f7506da589row5_col1 {\n",
       "            background-color:  #b4e2ba;\n",
       "            color:  #000000;\n",
       "        }    #T_d263f26e_89df_11ea_bc11_c8f7506da589row6_col1 {\n",
       "            background-color:  #b4e2ba;\n",
       "            color:  #000000;\n",
       "        }    #T_d263f26e_89df_11ea_bc11_c8f7506da589row7_col1 {\n",
       "            background-color:  #daf0d4;\n",
       "            color:  #000000;\n",
       "        }    #T_d263f26e_89df_11ea_bc11_c8f7506da589row8_col1 {\n",
       "            background-color:  #daf0d4;\n",
       "            color:  #000000;\n",
       "        }    #T_d263f26e_89df_11ea_bc11_c8f7506da589row9_col1 {\n",
       "            background-color:  #f7fcf0;\n",
       "            color:  #000000;\n",
       "        }    #T_d263f26e_89df_11ea_bc11_c8f7506da589row10_col1 {\n",
       "            background-color:  #f7fcf0;\n",
       "            color:  #000000;\n",
       "        }</style><table id=\"T_d263f26e_89df_11ea_bc11_c8f7506da589\" ><thead>    <tr>        <th class=\"blank level0\" ></th>        <th class=\"col_heading level0 col0\" >Maximum Salary</th>        <th class=\"col_heading level0 col1\" >Counts</th>    </tr></thead><tbody>\n",
       "                <tr>\n",
       "                        <th id=\"T_d263f26e_89df_11ea_bc11_c8f7506da589level0_row0\" class=\"row_heading level0 row0\" >0</th>\n",
       "                        <td id=\"T_d263f26e_89df_11ea_bc11_c8f7506da589row0_col0\" class=\"data row0 col0\" > 5000</td>\n",
       "                        <td id=\"T_d263f26e_89df_11ea_bc11_c8f7506da589row0_col1\" class=\"data row0 col1\" >8</td>\n",
       "            </tr>\n",
       "            <tr>\n",
       "                        <th id=\"T_d263f26e_89df_11ea_bc11_c8f7506da589level0_row1\" class=\"row_heading level0 row1\" >1</th>\n",
       "                        <td id=\"T_d263f26e_89df_11ea_bc11_c8f7506da589row1_col0\" class=\"data row1 col0\" > 4000</td>\n",
       "                        <td id=\"T_d263f26e_89df_11ea_bc11_c8f7506da589row1_col1\" class=\"data row1 col1\" >7</td>\n",
       "            </tr>\n",
       "            <tr>\n",
       "                        <th id=\"T_d263f26e_89df_11ea_bc11_c8f7506da589level0_row2\" class=\"row_heading level0 row2\" >2</th>\n",
       "                        <td id=\"T_d263f26e_89df_11ea_bc11_c8f7506da589row2_col0\" class=\"data row2 col0\" > 3000</td>\n",
       "                        <td id=\"T_d263f26e_89df_11ea_bc11_c8f7506da589row2_col1\" class=\"data row2 col1\" >6</td>\n",
       "            </tr>\n",
       "            <tr>\n",
       "                        <th id=\"T_d263f26e_89df_11ea_bc11_c8f7506da589level0_row3\" class=\"row_heading level0 row3\" >3</th>\n",
       "                        <td id=\"T_d263f26e_89df_11ea_bc11_c8f7506da589row3_col0\" class=\"data row3 col0\" > 3500</td>\n",
       "                        <td id=\"T_d263f26e_89df_11ea_bc11_c8f7506da589row3_col1\" class=\"data row3 col1\" >5</td>\n",
       "            </tr>\n",
       "            <tr>\n",
       "                        <th id=\"T_d263f26e_89df_11ea_bc11_c8f7506da589level0_row4\" class=\"row_heading level0 row4\" >4</th>\n",
       "                        <td id=\"T_d263f26e_89df_11ea_bc11_c8f7506da589row4_col0\" class=\"data row4 col0\" > 8000</td>\n",
       "                        <td id=\"T_d263f26e_89df_11ea_bc11_c8f7506da589row4_col1\" class=\"data row4 col1\" >4</td>\n",
       "            </tr>\n",
       "            <tr>\n",
       "                        <th id=\"T_d263f26e_89df_11ea_bc11_c8f7506da589level0_row5\" class=\"row_heading level0 row5\" >5</th>\n",
       "                        <td id=\"T_d263f26e_89df_11ea_bc11_c8f7506da589row5_col0\" class=\"data row5 col0\" > 2800</td>\n",
       "                        <td id=\"T_d263f26e_89df_11ea_bc11_c8f7506da589row5_col1\" class=\"data row5 col1\" >4</td>\n",
       "            </tr>\n",
       "            <tr>\n",
       "                        <th id=\"T_d263f26e_89df_11ea_bc11_c8f7506da589level0_row6\" class=\"row_heading level0 row6\" >6</th>\n",
       "                        <td id=\"T_d263f26e_89df_11ea_bc11_c8f7506da589row6_col0\" class=\"data row6 col0\" > 2500</td>\n",
       "                        <td id=\"T_d263f26e_89df_11ea_bc11_c8f7506da589row6_col1\" class=\"data row6 col1\" >4</td>\n",
       "            </tr>\n",
       "            <tr>\n",
       "                        <th id=\"T_d263f26e_89df_11ea_bc11_c8f7506da589level0_row7\" class=\"row_heading level0 row7\" >7</th>\n",
       "                        <td id=\"T_d263f26e_89df_11ea_bc11_c8f7506da589row7_col0\" class=\"data row7 col0\" > 3100</td>\n",
       "                        <td id=\"T_d263f26e_89df_11ea_bc11_c8f7506da589row7_col1\" class=\"data row7 col1\" >3</td>\n",
       "            </tr>\n",
       "            <tr>\n",
       "                        <th id=\"T_d263f26e_89df_11ea_bc11_c8f7506da589level0_row8\" class=\"row_heading level0 row8\" >8</th>\n",
       "                        <td id=\"T_d263f26e_89df_11ea_bc11_c8f7506da589row8_col0\" class=\"data row8 col0\" > 5600</td>\n",
       "                        <td id=\"T_d263f26e_89df_11ea_bc11_c8f7506da589row8_col1\" class=\"data row8 col1\" >3</td>\n",
       "            </tr>\n",
       "            <tr>\n",
       "                        <th id=\"T_d263f26e_89df_11ea_bc11_c8f7506da589level0_row9\" class=\"row_heading level0 row9\" >9</th>\n",
       "                        <td id=\"T_d263f26e_89df_11ea_bc11_c8f7506da589row9_col0\" class=\"data row9 col0\" > 2400</td>\n",
       "                        <td id=\"T_d263f26e_89df_11ea_bc11_c8f7506da589row9_col1\" class=\"data row9 col1\" >2</td>\n",
       "            </tr>\n",
       "            <tr>\n",
       "                        <th id=\"T_d263f26e_89df_11ea_bc11_c8f7506da589level0_row10\" class=\"row_heading level0 row10\" >10</th>\n",
       "                        <td id=\"T_d263f26e_89df_11ea_bc11_c8f7506da589row10_col0\" class=\"data row10 col0\" > 20000</td>\n",
       "                        <td id=\"T_d263f26e_89df_11ea_bc11_c8f7506da589row10_col1\" class=\"data row10 col1\" >2</td>\n",
       "            </tr>\n",
       "    </tbody></table>"
      ],
      "text/plain": [
       "<pandas.io.formats.style.Styler at 0x1cd92451320>"
      ]
     },
     "execution_count": 22,
     "metadata": {},
     "output_type": "execute_result"
    }
   ],
   "source": [
    "# top ten maximum Salary offered \n",
    "\n",
    "max_s = df['Max_Salary'].value_counts()[:11]\n",
    "Count_Max = pd.DataFrame(max_s).reset_index()\n",
    "Count_Max.columns = ['Maximum Salary', 'Counts'] \n",
    "Count_Max.style.background_gradient(cmap='GnBu')"
   ]
  }
 ],
 "metadata": {
  "kernelspec": {
   "display_name": "Python 3",
   "language": "python",
   "name": "python3"
  },
  "language_info": {
   "codemirror_mode": {
    "name": "ipython",
    "version": 3
   },
   "file_extension": ".py",
   "mimetype": "text/x-python",
   "name": "python",
   "nbconvert_exporter": "python",
   "pygments_lexer": "ipython3",
   "version": "3.7.3"
  }
 },
 "nbformat": 4,
 "nbformat_minor": 2
}
